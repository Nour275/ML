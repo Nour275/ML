{
 "cells": [
  {
   "attachments": {},
   "cell_type": "markdown",
   "metadata": {
    "datalore": {
     "hide_input_from_viewers": false,
     "hide_output_from_viewers": false,
     "node_id": "paN7xRi6wIar3rTwIM8O0n",
     "report_properties": {
      "rowId": "VYZes1BGCCJ05mKzXegmpt"
     },
     "type": "MD"
    }
   },
   "source": [
    "\n",
    "Альфарадж Нур ИД22-1"
   ]
  },
  {
   "attachments": {},
   "cell_type": "markdown",
   "metadata": {
    "datalore": {
     "hide_input_from_viewers": false,
     "hide_output_from_viewers": false,
     "node_id": "YeNX4hX7PVQEst6GFO2RTu",
     "report_properties": {
      "rowId": "LeiYrglxHbcNvkQtyL20R7"
     },
     "type": "MD"
    }
   },
   "source": [
    "\n",
    " ***Набор данных: CICIDS2017 (Canadian Institute for Cybersecurity Intrusion Detection System 2017)\n",
    "Обзор.\n",
    "• Описание: CICIDS2017 — это известный набор данных для кибербезопасности, специально разработанный для поддержки обнаружения вторжений и обнаружения сетевых аномалий. Он содержит реалистичные и полные данные о сетевом трафике с маркированными типами атак, включая DoS, brute-force, веб-атаки, проникновение и трафик ботнетов.\n",
    "• Состав данных: этот набор данных включает в себя различные функции, такие как метрики сетевого потока, исходные и конечные IP-адреса, порты, количество пакетов и метки атак. Он представляет собой смесь безвредного и вредоносного трафика, имитируя реальные сетевые сценарии.***\n"
   ]
  },
  {
   "attachments": {},
   "cell_type": "markdown",
   "metadata": {
    "datalore": {
     "hide_input_from_viewers": false,
     "hide_output_from_viewers": false,
     "node_id": "EvpWIUYiUAzFaOQ32ff1JU",
     "report_properties": {
      "rowId": "hjjCCFGbDqVXr1lvJUIxY9"
     },
     "type": "MD"
    }
   },
   "source": [
    "# ***2.1. Statement of the Problem and Characteristics of the Dataset***"
   ]
  },
  {
   "cell_type": "code",
   "execution_count": 16,
   "metadata": {
    "datalore": {
     "hide_input_from_viewers": false,
     "hide_output_from_viewers": false,
     "node_id": "v7Z7oj0mlPNQUgBSdiZCWw",
     "report_properties": {
      "rowId": "uWCOHQOQEoIgCDD1HgIuLa"
     },
     "type": "CODE"
    }
   },
   "outputs": [],
   "source": [
    "#import kagglehub\n",
    "\n",
    "# Download latest version\n",
    "#path = kagglehub.dataset_download(\"sweety18/cicids2017-full-dataset\")\n",
    "\n",
    "#print(\"Path to dataset files:\", path)"
   ]
  },
  {
   "cell_type": "code",
   "execution_count": 17,
   "metadata": {
    "datalore": {
     "hide_input_from_viewers": false,
     "hide_output_from_viewers": false,
     "node_id": "ROTjAvo1CB3us1Y7h6tmQQ",
     "report_properties": {
      "rowId": "uhS7OQ9QAMbCQr2t4n1UKE"
     },
     "type": "CODE"
    }
   },
   "outputs": [],
   "source": [
    "import pandas as pd\n",
    "from collections import Counter\n",
    "\n",
    "# Define the dataset path\n",
    "#dataset_path = \"/root/.cache/kagglehub/datasets/sweety18/cicids2017-full-dataset/versions/1\"\n",
    "#data_file = f\"{dataset_path}/combine.csv\"\n",
    "\n",
    "# Load the dataset\n",
    "dataset = pd.read_csv('C:\\\\Users\\\\HP\\\\Downloads\\\\archive\\\\combine.csv', low_memory=False)\n",
    "\n",
    "# Clean column names by stripping extra spaces\n",
    "dataset.columns = dataset.columns.str.strip()"
   ]
  },
  {
   "cell_type": "code",
   "execution_count": 18,
   "metadata": {
    "datalore": {
     "hide_input_from_viewers": false,
     "hide_output_from_viewers": false,
     "node_id": "1QcKOvhCANd9JGBtqSXunv",
     "report_properties": {
      "rowId": "6RwZsgfEGEieuymKwXjgEA"
     },
     "type": "CODE"
    }
   },
   "outputs": [
    {
     "name": "stdout",
     "output_type": "stream",
     "text": [
      "\n",
      "Dataset Overview:\n"
     ]
    },
    {
     "data": {
      "text/html": [
       "<div>\n",
       "<style scoped>\n",
       "    .dataframe tbody tr th:only-of-type {\n",
       "        vertical-align: middle;\n",
       "    }\n",
       "\n",
       "    .dataframe tbody tr th {\n",
       "        vertical-align: top;\n",
       "    }\n",
       "\n",
       "    .dataframe thead th {\n",
       "        text-align: right;\n",
       "    }\n",
       "</style>\n",
       "<table border=\"1\" class=\"dataframe\">\n",
       "  <thead>\n",
       "    <tr style=\"text-align: right;\">\n",
       "      <th></th>\n",
       "      <th>Destination Port</th>\n",
       "      <th>Flow Duration</th>\n",
       "      <th>Total Fwd Packets</th>\n",
       "      <th>Total Backward Packets</th>\n",
       "      <th>Total Length of Fwd Packets</th>\n",
       "      <th>Total Length of Bwd Packets</th>\n",
       "      <th>Fwd Packet Length Max</th>\n",
       "      <th>Fwd Packet Length Min</th>\n",
       "      <th>Fwd Packet Length Mean</th>\n",
       "      <th>Fwd Packet Length Std</th>\n",
       "      <th>...</th>\n",
       "      <th>min_seg_size_forward</th>\n",
       "      <th>Active Mean</th>\n",
       "      <th>Active Std</th>\n",
       "      <th>Active Max</th>\n",
       "      <th>Active Min</th>\n",
       "      <th>Idle Mean</th>\n",
       "      <th>Idle Std</th>\n",
       "      <th>Idle Max</th>\n",
       "      <th>Idle Min</th>\n",
       "      <th>Label</th>\n",
       "    </tr>\n",
       "  </thead>\n",
       "  <tbody>\n",
       "    <tr>\n",
       "      <th>0</th>\n",
       "      <td>54865</td>\n",
       "      <td>3.0</td>\n",
       "      <td>2.0</td>\n",
       "      <td>0.0</td>\n",
       "      <td>12.0</td>\n",
       "      <td>0.0</td>\n",
       "      <td>6.0</td>\n",
       "      <td>6.0</td>\n",
       "      <td>6.0</td>\n",
       "      <td>0.0</td>\n",
       "      <td>...</td>\n",
       "      <td>20.0</td>\n",
       "      <td>0.0</td>\n",
       "      <td>0.0</td>\n",
       "      <td>0.0</td>\n",
       "      <td>0.0</td>\n",
       "      <td>0.0</td>\n",
       "      <td>0.0</td>\n",
       "      <td>0.0</td>\n",
       "      <td>0.0</td>\n",
       "      <td>BENIGN</td>\n",
       "    </tr>\n",
       "    <tr>\n",
       "      <th>1</th>\n",
       "      <td>55054</td>\n",
       "      <td>109.0</td>\n",
       "      <td>1.0</td>\n",
       "      <td>1.0</td>\n",
       "      <td>6.0</td>\n",
       "      <td>6.0</td>\n",
       "      <td>6.0</td>\n",
       "      <td>6.0</td>\n",
       "      <td>6.0</td>\n",
       "      <td>0.0</td>\n",
       "      <td>...</td>\n",
       "      <td>20.0</td>\n",
       "      <td>0.0</td>\n",
       "      <td>0.0</td>\n",
       "      <td>0.0</td>\n",
       "      <td>0.0</td>\n",
       "      <td>0.0</td>\n",
       "      <td>0.0</td>\n",
       "      <td>0.0</td>\n",
       "      <td>0.0</td>\n",
       "      <td>BENIGN</td>\n",
       "    </tr>\n",
       "    <tr>\n",
       "      <th>2</th>\n",
       "      <td>55055</td>\n",
       "      <td>52.0</td>\n",
       "      <td>1.0</td>\n",
       "      <td>1.0</td>\n",
       "      <td>6.0</td>\n",
       "      <td>6.0</td>\n",
       "      <td>6.0</td>\n",
       "      <td>6.0</td>\n",
       "      <td>6.0</td>\n",
       "      <td>0.0</td>\n",
       "      <td>...</td>\n",
       "      <td>20.0</td>\n",
       "      <td>0.0</td>\n",
       "      <td>0.0</td>\n",
       "      <td>0.0</td>\n",
       "      <td>0.0</td>\n",
       "      <td>0.0</td>\n",
       "      <td>0.0</td>\n",
       "      <td>0.0</td>\n",
       "      <td>0.0</td>\n",
       "      <td>BENIGN</td>\n",
       "    </tr>\n",
       "    <tr>\n",
       "      <th>3</th>\n",
       "      <td>46236</td>\n",
       "      <td>34.0</td>\n",
       "      <td>1.0</td>\n",
       "      <td>1.0</td>\n",
       "      <td>6.0</td>\n",
       "      <td>6.0</td>\n",
       "      <td>6.0</td>\n",
       "      <td>6.0</td>\n",
       "      <td>6.0</td>\n",
       "      <td>0.0</td>\n",
       "      <td>...</td>\n",
       "      <td>20.0</td>\n",
       "      <td>0.0</td>\n",
       "      <td>0.0</td>\n",
       "      <td>0.0</td>\n",
       "      <td>0.0</td>\n",
       "      <td>0.0</td>\n",
       "      <td>0.0</td>\n",
       "      <td>0.0</td>\n",
       "      <td>0.0</td>\n",
       "      <td>BENIGN</td>\n",
       "    </tr>\n",
       "    <tr>\n",
       "      <th>4</th>\n",
       "      <td>54863</td>\n",
       "      <td>3.0</td>\n",
       "      <td>2.0</td>\n",
       "      <td>0.0</td>\n",
       "      <td>12.0</td>\n",
       "      <td>0.0</td>\n",
       "      <td>6.0</td>\n",
       "      <td>6.0</td>\n",
       "      <td>6.0</td>\n",
       "      <td>0.0</td>\n",
       "      <td>...</td>\n",
       "      <td>20.0</td>\n",
       "      <td>0.0</td>\n",
       "      <td>0.0</td>\n",
       "      <td>0.0</td>\n",
       "      <td>0.0</td>\n",
       "      <td>0.0</td>\n",
       "      <td>0.0</td>\n",
       "      <td>0.0</td>\n",
       "      <td>0.0</td>\n",
       "      <td>BENIGN</td>\n",
       "    </tr>\n",
       "  </tbody>\n",
       "</table>\n",
       "<p>5 rows × 79 columns</p>\n",
       "</div>"
      ],
      "text/plain": [
       "  Destination Port  Flow Duration  Total Fwd Packets  Total Backward Packets  \\\n",
       "0            54865            3.0                2.0                     0.0   \n",
       "1            55054          109.0                1.0                     1.0   \n",
       "2            55055           52.0                1.0                     1.0   \n",
       "3            46236           34.0                1.0                     1.0   \n",
       "4            54863            3.0                2.0                     0.0   \n",
       "\n",
       "   Total Length of Fwd Packets  Total Length of Bwd Packets  \\\n",
       "0                         12.0                          0.0   \n",
       "1                          6.0                          6.0   \n",
       "2                          6.0                          6.0   \n",
       "3                          6.0                          6.0   \n",
       "4                         12.0                          0.0   \n",
       "\n",
       "   Fwd Packet Length Max  Fwd Packet Length Min  Fwd Packet Length Mean  \\\n",
       "0                    6.0                    6.0                     6.0   \n",
       "1                    6.0                    6.0                     6.0   \n",
       "2                    6.0                    6.0                     6.0   \n",
       "3                    6.0                    6.0                     6.0   \n",
       "4                    6.0                    6.0                     6.0   \n",
       "\n",
       "   Fwd Packet Length Std  ...  min_seg_size_forward  Active Mean  Active Std  \\\n",
       "0                    0.0  ...                  20.0          0.0         0.0   \n",
       "1                    0.0  ...                  20.0          0.0         0.0   \n",
       "2                    0.0  ...                  20.0          0.0         0.0   \n",
       "3                    0.0  ...                  20.0          0.0         0.0   \n",
       "4                    0.0  ...                  20.0          0.0         0.0   \n",
       "\n",
       "   Active Max  Active Min  Idle Mean  Idle Std  Idle Max  Idle Min   Label  \n",
       "0         0.0         0.0        0.0       0.0       0.0       0.0  BENIGN  \n",
       "1         0.0         0.0        0.0       0.0       0.0       0.0  BENIGN  \n",
       "2         0.0         0.0        0.0       0.0       0.0       0.0  BENIGN  \n",
       "3         0.0         0.0        0.0       0.0       0.0       0.0  BENIGN  \n",
       "4         0.0         0.0        0.0       0.0       0.0       0.0  BENIGN  \n",
       "\n",
       "[5 rows x 79 columns]"
      ]
     },
     "execution_count": 18,
     "metadata": {},
     "output_type": "execute_result"
    }
   ],
   "source": [
    "# Display basic information\n",
    "print(\"\\nDataset Overview:\")\n",
    "dataset.head()"
   ]
  },
  {
   "cell_type": "code",
   "execution_count": 19,
   "metadata": {
    "datalore": {
     "hide_input_from_viewers": false,
     "hide_output_from_viewers": false,
     "node_id": "cQV0EGPEw4b28rP64uI4u9",
     "report_properties": {
      "rowId": "GiDtcpEtqgX2EaC3NfNrDO"
     },
     "type": "CODE"
    }
   },
   "outputs": [
    {
     "name": "stdout",
     "output_type": "stream",
     "text": [
      "\n",
      "Dataset Info:\n",
      "<class 'pandas.core.frame.DataFrame'>\n",
      "RangeIndex: 2214469 entries, 0 to 2214468\n",
      "Data columns (total 79 columns):\n",
      " #   Column                       Dtype  \n",
      "---  ------                       -----  \n",
      " 0   Destination Port             object \n",
      " 1   Flow Duration                float64\n",
      " 2   Total Fwd Packets            float64\n",
      " 3   Total Backward Packets       float64\n",
      " 4   Total Length of Fwd Packets  float64\n",
      " 5   Total Length of Bwd Packets  float64\n",
      " 6   Fwd Packet Length Max        float64\n",
      " 7   Fwd Packet Length Min        float64\n",
      " 8   Fwd Packet Length Mean       float64\n",
      " 9   Fwd Packet Length Std        float64\n",
      " 10  Bwd Packet Length Max        float64\n",
      " 11  Bwd Packet Length Min        float64\n",
      " 12  Bwd Packet Length Mean       float64\n",
      " 13  Bwd Packet Length Std        float64\n",
      " 14  Flow Bytes/s                 float64\n",
      " 15  Flow Packets/s               float64\n",
      " 16  Flow IAT Mean                float64\n",
      " 17  Flow IAT Std                 float64\n",
      " 18  Flow IAT Max                 float64\n",
      " 19  Flow IAT Min                 float64\n",
      " 20  Fwd IAT Total                float64\n",
      " 21  Fwd IAT Mean                 float64\n",
      " 22  Fwd IAT Std                  float64\n",
      " 23  Fwd IAT Max                  float64\n",
      " 24  Fwd IAT Min                  float64\n",
      " 25  Bwd IAT Total                float64\n",
      " 26  Bwd IAT Mean                 float64\n",
      " 27  Bwd IAT Std                  float64\n",
      " 28  Bwd IAT Max                  float64\n",
      " 29  Bwd IAT Min                  float64\n",
      " 30  Fwd PSH Flags                float64\n",
      " 31  Bwd PSH Flags                float64\n",
      " 32  Fwd URG Flags                float64\n",
      " 33  Bwd URG Flags                float64\n",
      " 34  Fwd Header Length            float64\n",
      " 35  Bwd Header Length            float64\n",
      " 36  Fwd Packets/s                float64\n",
      " 37  Bwd Packets/s                float64\n",
      " 38  Min Packet Length            float64\n",
      " 39  Max Packet Length            float64\n",
      " 40  Packet Length Mean           float64\n",
      " 41  Packet Length Std            float64\n",
      " 42  Packet Length Variance       float64\n",
      " 43  FIN Flag Count               float64\n",
      " 44  SYN Flag Count               float64\n",
      " 45  RST Flag Count               float64\n",
      " 46  PSH Flag Count               float64\n",
      " 47  ACK Flag Count               float64\n",
      " 48  URG Flag Count               float64\n",
      " 49  CWE Flag Count               float64\n",
      " 50  ECE Flag Count               float64\n",
      " 51  Down/Up Ratio                float64\n",
      " 52  Average Packet Size          float64\n",
      " 53  Avg Fwd Segment Size         float64\n",
      " 54  Avg Bwd Segment Size         float64\n",
      " 55  Fwd Header Length.1          float64\n",
      " 56  Fwd Avg Bytes/Bulk           float64\n",
      " 57  Fwd Avg Packets/Bulk         float64\n",
      " 58  Fwd Avg Bulk Rate            float64\n",
      " 59  Bwd Avg Bytes/Bulk           float64\n",
      " 60  Bwd Avg Packets/Bulk         float64\n",
      " 61  Bwd Avg Bulk Rate            float64\n",
      " 62  Subflow Fwd Packets          float64\n",
      " 63  Subflow Fwd Bytes            float64\n",
      " 64  Subflow Bwd Packets          float64\n",
      " 65  Subflow Bwd Bytes            float64\n",
      " 66  Init_Win_bytes_forward       float64\n",
      " 67  Init_Win_bytes_backward      float64\n",
      " 68  act_data_pkt_fwd             float64\n",
      " 69  min_seg_size_forward         float64\n",
      " 70  Active Mean                  float64\n",
      " 71  Active Std                   float64\n",
      " 72  Active Max                   float64\n",
      " 73  Active Min                   float64\n",
      " 74  Idle Mean                    float64\n",
      " 75  Idle Std                     float64\n",
      " 76  Idle Max                     float64\n",
      " 77  Idle Min                     float64\n",
      " 78  Label                        object \n",
      "dtypes: float64(77), object(2)\n",
      "memory usage: 1.3+ GB\n"
     ]
    }
   ],
   "source": [
    "print(\"\\nDataset Info:\")\n",
    "dataset.info()"
   ]
  },
  {
   "cell_type": "code",
   "execution_count": 20,
   "metadata": {
    "datalore": {
     "hide_input_from_viewers": false,
     "hide_output_from_viewers": false,
     "node_id": "8E9eu2SqyJ21O9eD8YIAtK",
     "report_properties": {
      "rowId": "LYJc6x66kqTIBylsOAOmwq"
     },
     "type": "CODE"
    }
   },
   "outputs": [
    {
     "name": "stdout",
     "output_type": "stream",
     "text": [
      "\n",
      "Data Types Summary:\n",
      "float64    77\n",
      "object      2\n",
      "Name: count, dtype: int64\n"
     ]
    }
   ],
   "source": [
    "\n",
    "# Display data types and memory usage\n",
    "print(\"\\nData Types Summary:\")\n",
    "print(dataset.dtypes.value_counts())"
   ]
  },
  {
   "cell_type": "code",
   "execution_count": 21,
   "metadata": {
    "datalore": {
     "hide_input_from_viewers": false,
     "hide_output_from_viewers": false,
     "node_id": "bBmEOdJ5AakiRLr3Jcq3jX",
     "report_properties": {
      "rowId": "bRzIkb9EZw0dyDvHq8EQrj"
     },
     "type": "CODE"
    }
   },
   "outputs": [],
   "source": [
    "#2. Exploring Dataset Characteristics\n",
    "# Separate numerical and categorical features\n",
    "numerical_features = dataset.select_dtypes(include=['float64', 'int64']).columns\n",
    "categorical_features = dataset.select_dtypes(include=['object']).columns"
   ]
  },
  {
   "cell_type": "code",
   "execution_count": 22,
   "metadata": {
    "datalore": {
     "hide_input_from_viewers": false,
     "hide_output_from_viewers": false,
     "node_id": "3u7eGmLNFB7IWBKSFw1Qor",
     "report_properties": {
      "rowId": "gZDnuSmwkN9dvrgbczmDcm"
     },
     "type": "CODE"
    }
   },
   "outputs": [
    {
     "name": "stdout",
     "output_type": "stream",
     "text": [
      "\n",
      "Sample Numerical Features: Index(['Flow Duration', 'Total Fwd Packets', 'Total Backward Packets',\n",
      "       'Total Length of Fwd Packets', 'Total Length of Bwd Packets'],\n",
      "      dtype='object')\n",
      "\n",
      "Sample Categorical Features: Index(['Destination Port', 'Label'], dtype='object')\n"
     ]
    }
   ],
   "source": [
    "# Display numerical and categorical features\n",
    "print(\"\\nSample Numerical Features:\", numerical_features[:5])\n",
    "print(\"\\nSample Categorical Features:\", categorical_features[:5])"
   ]
  },
  {
   "cell_type": "code",
   "execution_count": 23,
   "metadata": {
    "datalore": {
     "hide_input_from_viewers": false,
     "hide_output_from_viewers": false,
     "node_id": "4E5F80a5xNVmub83GG4yZV",
     "report_properties": {
      "rowId": "HRwHvJBxkjTDfSOEyPtSyY"
     },
     "type": "CODE"
    }
   },
   "outputs": [
    {
     "name": "stdout",
     "output_type": "stream",
     "text": [
      "\n",
      "Class Distribution:\n",
      "Counter({'BENIGN': 1672837, 'DoS Hulk': 231073, 'PortScan': 158930, 'DDoS': 128027, 'DoS GoldenEye': 10293, 'DoS slowloris': 5796, 'DoS Slowhttptest': 5499, 'Bot': 1966, 'Infiltration': 36, 'Heartbleed': 11, nan: 1})\n"
     ]
    }
   ],
   "source": [
    "# Display the class distribution\n",
    "print(\"\\nClass Distribution:\")\n",
    "print(Counter(dataset['Label']))"
   ]
  },
  {
   "attachments": {},
   "cell_type": "markdown",
   "metadata": {
    "datalore": {
     "hide_input_from_viewers": false,
     "hide_output_from_viewers": false,
     "node_id": "zsoOoLH5qq8F5wm8iZXmbC",
     "report_properties": {
      "rowId": "cGRYguCr0J5nwxscZxYGuN"
     },
     "type": "MD"
    }
   },
   "source": [
    "\n",
    "```\n",
    "Объяснение кода:\n",
    "select_dtypes() используется для разделения числовых и категориальных признаков, помогая нам понять структуру набора данных.\n",
    "Функция Counter из collections показывает распределение меток (classes), таких как benign  vs. various attack types.\n",
    "\n",
    "```\n"
   ]
  },
  {
   "cell_type": "code",
   "execution_count": 24,
   "metadata": {
    "datalore": {
     "hide_input_from_viewers": false,
     "hide_output_from_viewers": false,
     "node_id": "ZBLAsUParIMTaI2fidbubh",
     "report_properties": {
      "rowId": "760tKHP0UsunfC3CtYWmAa"
     },
     "type": "CODE"
    }
   },
   "outputs": [
    {
     "name": "stdout",
     "output_type": "stream",
     "text": [
      "\n",
      "Checking for missing values:\n",
      "Flow Duration                  1\n",
      "Total Fwd Packets              1\n",
      "Total Backward Packets         1\n",
      "Total Length of Fwd Packets    1\n",
      "Total Length of Bwd Packets    1\n",
      "                              ..\n",
      "Idle Mean                      1\n",
      "Idle Std                       1\n",
      "Idle Max                       1\n",
      "Idle Min                       1\n",
      "Label                          1\n",
      "Length: 78, dtype: int64\n"
     ]
    }
   ],
   "source": [
    "#3. Handling Missing Values\n",
    "# Check for missing values\n",
    "print(\"\\nChecking for missing values:\")\n",
    "missing_values = dataset.isnull().sum()\n",
    "print(missing_values[missing_values > 0])"
   ]
  },
  {
   "cell_type": "code",
   "execution_count": 25,
   "metadata": {
    "datalore": {
     "hide_input_from_viewers": false,
     "hide_output_from_viewers": false,
     "node_id": "ZBMXtokDxxI9hH6p0ArtWM",
     "report_properties": {
      "rowId": "TizuBr7C7HMGlWPRtWPMUe"
     },
     "type": "CODE"
    }
   },
   "outputs": [],
   "source": [
    "# Handle missing values by filling numerical columns with their mean\n",
    "numeric_columns = dataset.select_dtypes(include=['float64', 'int64']).columns\n",
    "dataset[numeric_columns] = dataset[numeric_columns].fillna(dataset[numeric_columns].mean())"
   ]
  },
  {
   "cell_type": "code",
   "execution_count": 26,
   "metadata": {
    "datalore": {
     "hide_input_from_viewers": false,
     "hide_output_from_viewers": false,
     "node_id": "cCzIb7cDkfJUFSQs7yThUO",
     "report_properties": {
      "rowId": "ULmiEp5owfwBkKQW6XyB8G"
     },
     "type": "CODE"
    }
   },
   "outputs": [
    {
     "name": "stdout",
     "output_type": "stream",
     "text": [
      "\n",
      "Remaining missing values after handling:\n",
      "1\n"
     ]
    }
   ],
   "source": [
    "# Ensure no missing values remain\n",
    "print(\"\\nRemaining missing values after handling:\")\n",
    "print(dataset.isnull().sum().sum())"
   ]
  },
  {
   "cell_type": "code",
   "execution_count": 27,
   "metadata": {
    "datalore": {
     "hide_input_from_viewers": false,
     "hide_output_from_viewers": false,
     "node_id": "3IEpfmRcGE1AXiSMDoGmFL",
     "report_properties": {
      "rowId": "kFuVx4c3WOZbOoIqmco1GD"
     },
     "type": "CODE"
    }
   },
   "outputs": [
    {
     "name": "stdout",
     "output_type": "stream",
     "text": [
      "Label    1\n",
      "dtype: int64\n"
     ]
    }
   ],
   "source": [
    "missing_values = dataset.isnull().sum()\n",
    "print(missing_values[missing_values > 0])"
   ]
  },
  {
   "cell_type": "code",
   "execution_count": 28,
   "metadata": {
    "datalore": {
     "hide_input_from_viewers": false,
     "hide_output_from_viewers": false,
     "node_id": "cc0Mq9cBtgbOtEVGt1HeKv",
     "report_properties": {
      "rowId": "tn6nmsce03MSi22AgKLdpo"
     },
     "type": "CODE"
    }
   },
   "outputs": [],
   "source": [
    "# Impute missing values with the most frequent value in the column\n",
    "most_frequent = dataset['Label'].mode()[0]\n",
    "dataset['Label'] = dataset['Label'].fillna(most_frequent)"
   ]
  },
  {
   "cell_type": "code",
   "execution_count": 29,
   "metadata": {
    "datalore": {
     "hide_input_from_viewers": false,
     "hide_output_from_viewers": false,
     "node_id": "uNEae81gRQ2dgKRuH89Iyt",
     "report_properties": {
      "rowId": "qesMMYzdIcywlrfSoPyCrp"
     },
     "type": "CODE"
    }
   },
   "outputs": [
    {
     "data": {
      "text/plain": [
       "Destination Port               0\n",
       "Flow Duration                  0\n",
       "Total Fwd Packets              0\n",
       "Total Backward Packets         0\n",
       "Total Length of Fwd Packets    0\n",
       "                              ..\n",
       "Idle Mean                      0\n",
       "Idle Std                       0\n",
       "Idle Max                       0\n",
       "Idle Min                       0\n",
       "Label                          0\n",
       "Length: 79, dtype: int64"
      ]
     },
     "execution_count": 29,
     "metadata": {},
     "output_type": "execute_result"
    }
   ],
   "source": [
    "dataset.isnull().sum()"
   ]
  },
  {
   "attachments": {},
   "cell_type": "markdown",
   "metadata": {
    "datalore": {
     "hide_input_from_viewers": false,
     "hide_output_from_viewers": false,
     "node_id": "aGFn7YaO7l5YvjzCft2JcV",
     "report_properties": {
      "rowId": "Mw2lsRoRYZxFevxdfEYoIg"
     },
     "type": "MD"
    }
   },
   "source": [
    "\n",
    "\n",
    "```\n",
    "Отсутствующие значения определяются с помощью isnull().sum(), и отображаются только столбцы с отсутствующими значениями.\n",
    "```\n"
   ]
  },
  {
   "cell_type": "code",
   "execution_count": 30,
   "metadata": {
    "datalore": {
     "hide_input_from_viewers": false,
     "hide_output_from_viewers": false,
     "node_id": "8mYb99yypSiPMtgubKilhD",
     "report_properties": {
      "rowId": "emM4dw55b6BG3T8NIh3cIO"
     },
     "type": "CODE"
    }
   },
   "outputs": [
    {
     "name": "stdout",
     "output_type": "stream",
     "text": [
      "\n",
      "Dataset Dimensions:\n",
      "Rows: 2214469, Columns: 79\n"
     ]
    }
   ],
   "source": [
    "#4. Dataset Volume and Classes\n",
    "# Display dataset shape\n",
    "print(\"\\nDataset Dimensions:\")\n",
    "print(f\"Rows: {dataset.shape[0]}, Columns: {dataset.shape[1]}\")"
   ]
  },
  {
   "cell_type": "code",
   "execution_count": 31,
   "metadata": {
    "datalore": {
     "hide_input_from_viewers": false,
     "hide_output_from_viewers": false,
     "node_id": "inUvSPj1z8gTuAorrV8qdI",
     "report_properties": {
      "rowId": "XpeT1ZSoY3bRr3TgqTy5QT"
     },
     "type": "CODE"
    }
   },
   "outputs": [
    {
     "name": "stdout",
     "output_type": "stream",
     "text": [
      "\n",
      "Unique Attack Classes:\n",
      "['BENIGN' 'DDoS' 'PortScan' 'Bot' 'Infiltration' 'DoS slowloris'\n",
      " 'DoS Slowhttptest' 'DoS Hulk' 'DoS GoldenEye' 'Heartbleed']\n"
     ]
    }
   ],
   "source": [
    "# Display unique attack classes\n",
    "unique_classes = dataset['Label'].unique()\n",
    "print(\"\\nUnique Attack Classes:\")\n",
    "print(unique_classes)"
   ]
  },
  {
   "cell_type": "code",
   "execution_count": 32,
   "metadata": {
    "datalore": {
     "hide_input_from_viewers": false,
     "hide_output_from_viewers": false,
     "node_id": "k9o8ftvzdzwdoIQOfIOAwR",
     "report_properties": {
      "rowId": "WwiWIyuEvMH7ErfhTKxwLl"
     },
     "type": "CODE"
    }
   },
   "outputs": [
    {
     "name": "stdout",
     "output_type": "stream",
     "text": [
      "\n",
      "Class Counts:\n",
      "Label\n",
      "BENIGN              1672838\n",
      "DoS Hulk             231073\n",
      "PortScan             158930\n",
      "DDoS                 128027\n",
      "DoS GoldenEye         10293\n",
      "DoS slowloris          5796\n",
      "DoS Slowhttptest       5499\n",
      "Bot                    1966\n",
      "Infiltration             36\n",
      "Heartbleed               11\n",
      "Name: count, dtype: int64\n"
     ]
    }
   ],
   "source": [
    "# Count number of rows for each class\n",
    "print(\"\\nClass Counts:\")\n",
    "print(dataset['Label'].value_counts())"
   ]
  },
  {
   "cell_type": "code",
   "execution_count": 33,
   "metadata": {
    "datalore": {
     "hide_input_from_viewers": false,
     "hide_output_from_viewers": false,
     "node_id": "32FQSJgOlvkk61JZxcbmKl",
     "report_properties": {
      "rowId": "f4yQ4bJ6JDBvqW74E8mpNL"
     },
     "type": "CODE"
    }
   },
   "outputs": [
    {
     "name": "stdout",
     "output_type": "stream",
     "text": [
      "\n",
      "Numerical Features Summary:\n"
     ]
    },
    {
     "name": "stderr",
     "output_type": "stream",
     "text": [
      "C:\\Users\\HP\\AppData\\Local\\Programs\\Python\\Python312\\Lib\\site-packages\\pandas\\core\\nanops.py:1016: RuntimeWarning: invalid value encountered in subtract\n",
      "  sqr = _ensure_numeric((avg - values) ** 2)\n",
      "C:\\Users\\HP\\AppData\\Local\\Programs\\Python\\Python312\\Lib\\site-packages\\pandas\\core\\nanops.py:1016: RuntimeWarning: invalid value encountered in subtract\n",
      "  sqr = _ensure_numeric((avg - values) ** 2)\n"
     ]
    },
    {
     "name": "stdout",
     "output_type": "stream",
     "text": [
      "       Flow Duration  Total Fwd Packets  Total Backward Packets  \\\n",
      "count   2.214469e+06       2.214469e+06            2.214469e+06   \n",
      "mean    1.577101e+07       8.426575e+00            9.099413e+00   \n",
      "std     3.447848e+07       6.855521e+02            9.072622e+02   \n",
      "min    -1.300000e+01       1.000000e+00            0.000000e+00   \n",
      "25%     1.360000e+02       2.000000e+00            1.000000e+00   \n",
      "50%     3.131500e+04       2.000000e+00            2.000000e+00   \n",
      "75%     4.336652e+06       5.000000e+00            5.000000e+00   \n",
      "max     1.200000e+08       2.197590e+05            2.919220e+05   \n",
      "\n",
      "       Total Length of Fwd Packets  Total Length of Bwd Packets  \\\n",
      "count                 2.214469e+06                 2.214469e+06   \n",
      "mean                  5.525557e+02                 1.380931e+04   \n",
      "std                   1.079826e+04                 2.058417e+06   \n",
      "min                   0.000000e+00                 0.000000e+00   \n",
      "25%                   6.000000e+00                 6.000000e+00   \n",
      "50%                   6.000000e+01                 1.200000e+02   \n",
      "75%                   2.700000e+02                 6.520000e+02   \n",
      "max                   1.290000e+07                 6.554530e+08   \n",
      "\n",
      "       Fwd Packet Length Max  Fwd Packet Length Min  Fwd Packet Length Mean  \\\n",
      "count           2.214469e+06           2.214469e+06            2.214469e+06   \n",
      "mean            2.175610e+02           1.803134e+01            6.091672e+01   \n",
      "std             7.718301e+02           6.507944e+01            2.023852e+02   \n",
      "min             0.000000e+00           0.000000e+00            0.000000e+00   \n",
      "25%             6.000000e+00           0.000000e+00            6.000000e+00   \n",
      "50%             3.600000e+01           2.000000e+00            3.300000e+01   \n",
      "75%             1.210000e+02           3.400000e+01            5.000000e+01   \n",
      "max             2.482000e+04           2.325000e+03            5.940857e+03   \n",
      "\n",
      "       Fwd Packet Length Std  Bwd Packet Length Max  ...  act_data_pkt_fwd  \\\n",
      "count           2.214469e+06           2.214469e+06  ...      2.214469e+06   \n",
      "mean            7.440612e+01           9.964694e+02  ...      5.588132e+00   \n",
      "std             3.082944e+02           2.136051e+03  ...      6.544909e+02   \n",
      "min             0.000000e+00           0.000000e+00  ...      0.000000e+00   \n",
      "25%             0.000000e+00           6.000000e+00  ...      0.000000e+00   \n",
      "50%             0.000000e+00           7.800000e+01  ...      1.000000e+00   \n",
      "75%             2.713546e+01           3.800000e+02  ...      2.000000e+00   \n",
      "max             7.125597e+03           1.953000e+04  ...      2.135570e+05   \n",
      "\n",
      "       min_seg_size_forward   Active Mean    Active Std    Active Max  \\\n",
      "count          2.214469e+06  2.214469e+06  2.214469e+06  2.214469e+06   \n",
      "mean          -8.450841e+02  8.389671e+04  3.957947e+04  1.500806e+05   \n",
      "std            2.703417e+05  6.563415e+05  4.015127e+05  1.023169e+06   \n",
      "min           -8.388531e+07  0.000000e+00  0.000000e+00  0.000000e+00   \n",
      "25%            2.000000e+01  0.000000e+00  0.000000e+00  0.000000e+00   \n",
      "50%            2.400000e+01  0.000000e+00  0.000000e+00  0.000000e+00   \n",
      "75%            3.200000e+01  0.000000e+00  0.000000e+00  0.000000e+00   \n",
      "max            1.260000e+02  1.100000e+08  7.420000e+07  1.100000e+08   \n",
      "\n",
      "         Active Min     Idle Mean      Idle Std      Idle Max      Idle Min  \n",
      "count  2.214469e+06  2.214469e+06  2.214469e+06  2.214469e+06  2.214469e+06  \n",
      "mean   6.094021e+04  9.683049e+06  6.038313e+05  1.013852e+07  9.218178e+06  \n",
      "std    5.807172e+05  2.569627e+07  5.100523e+06  2.649953e+07  2.542270e+07  \n",
      "min    0.000000e+00  0.000000e+00  0.000000e+00  0.000000e+00  0.000000e+00  \n",
      "25%    0.000000e+00  0.000000e+00  0.000000e+00  0.000000e+00  0.000000e+00  \n",
      "50%    0.000000e+00  0.000000e+00  0.000000e+00  0.000000e+00  0.000000e+00  \n",
      "75%    0.000000e+00  0.000000e+00  0.000000e+00  0.000000e+00  0.000000e+00  \n",
      "max    1.100000e+08  1.200000e+08  7.690000e+07  1.200000e+08  1.200000e+08  \n",
      "\n",
      "[8 rows x 77 columns]\n",
      "\n",
      "Categorical Features Summary:\n",
      "Destination Port: 51150 unique values\n",
      "Label: 10 unique values\n"
     ]
    }
   ],
   "source": [
    "#5. Feature Summary\n",
    "# Summarize key numerical features\n",
    "print(\"\\nNumerical Features Summary:\")\n",
    "print(dataset[numerical_features].describe())\n",
    "\n",
    "# Count unique values in categorical features\n",
    "print(\"\\nCategorical Features Summary:\")\n",
    "for feature in categorical_features:\n",
    "    print(f\"{feature}: {dataset[feature].nunique()} unique values\")"
   ]
  },
  {
   "cell_type": "code",
   "execution_count": 34,
   "metadata": {
    "datalore": {
     "hide_input_from_viewers": false,
     "hide_output_from_viewers": false,
     "node_id": "b1xPyaU0731lwOAWHfe7x5",
     "report_properties": {
      "rowId": "UkktnJxNXWinTp81595lad"
     },
     "type": "CODE"
    }
   },
   "outputs": [
    {
     "data": {
      "image/png": "[encoded data removed]",
      "text/plain": [
       "<Figure size 1200x600 with 1 Axes>"
      ]
     },
     "metadata": {},
     "output_type": "display_data"
    }
   ],
   "source": [
    "# 6. Visualizing Class Distribution\n",
    "import matplotlib.pyplot as plt\n",
    "import seaborn as sns\n",
    "\n",
    "# Visualize class distribution\n",
    "plt.figure(figsize=(12, 6))\n",
    "sns.countplot(y=dataset['Label'], order=dataset['Label'].value_counts().index)\n",
    "plt.title(\"Class Distribution in CICIDS2017 Dataset\")\n",
    "plt.xlabel(\"Count\")\n",
    "plt.ylabel(\"Traffic Classes\")\n",
    "plt.show()"
   ]
  },
  {
   "attachments": {},
   "cell_type": "markdown",
   "metadata": {
    "datalore": {
     "hide_input_from_viewers": false,
     "hide_output_from_viewers": false,
     "node_id": "r7jOPwh3B2t2K7anZUgHru",
     "report_properties": {
      "rowId": "OTNGch8zLyAzohjuKJ4PbH"
     },
     "type": "MD"
    }
   },
   "source": [
    "*График подсчета дает визуальное представление распределения классов, подчеркивая дисбаланс между классами доброкачественного и вредоносного трафика.*"
   ]
  },
  {
   "cell_type": "code",
   "execution_count": 35,
   "metadata": {
    "datalore": {
     "hide_input_from_viewers": false,
     "hide_output_from_viewers": false,
     "node_id": "9AFEolhgSqAuF4dlXNpoLa",
     "report_properties": {
      "rowId": "R0oGw0dtRzpbq4HjHDu9kE"
     },
     "type": "CODE"
    }
   },
   "outputs": [
    {
     "name": "stdout",
     "output_type": "stream",
     "text": [
      "\n",
      "Dataset Characteristics:\n",
      "The CICIDS2017 dataset contains 2214469 rows and 79 features. The data is labeled for binary classification (benign vs. malicious) and multi-class classification to identify specific attack types.\n",
      "\n",
      "Attack Classes:\n",
      "['BENIGN' 'DDoS' 'PortScan' 'Bot' 'Infiltration' 'DoS slowloris'\n",
      " 'DoS Slowhttptest' 'DoS Hulk' 'DoS GoldenEye' 'Heartbleed']\n"
     ]
    }
   ],
   "source": [
    "#7. Dataset Characteristics\n",
    "# Summarize dataset characteristics\n",
    "print(\"\\nDataset Characteristics:\")\n",
    "print(\n",
    "    f\"The CICIDS2017 dataset contains {dataset.shape[0]} rows and {dataset.shape[1]} features. \"\n",
    "    \"The data is labeled for binary classification (benign vs. malicious) and multi-class classification \"\n",
    "    \"to identify specific attack types.\"\n",
    ")\n",
    "\n",
    "# Examples of specific attack classes\n",
    "malicious_classes = dataset['Label'].unique()\n",
    "print(\"\\nAttack Classes:\")\n",
    "print(malicious_classes)"
   ]
  },
  {
   "attachments": {},
   "cell_type": "markdown",
   "metadata": {
    "datalore": {
     "hide_input_from_viewers": false,
     "hide_output_from_viewers": false,
     "node_id": "eNBxiEedYHMnNJoJRdkGAi",
     "report_properties": {
      "rowId": "iw1PJhi3Ar1Q5obTimPZV9"
     },
     "type": "MD"
    }
   },
   "source": [
    "## ***2.2. Preprocessing and Preparation of Data for Training Models***"
   ]
  },
  {
   "cell_type": "code",
   "execution_count": 36,
   "metadata": {
    "datalore": {
     "hide_input_from_viewers": false,
     "hide_output_from_viewers": false,
     "node_id": "X5CBjps9mes5zRZa6H4L3R",
     "report_properties": {
      "rowId": "rImOyNSrFyfrjNB9Bk7USW"
     },
     "type": "CODE"
    }
   },
   "outputs": [],
   "source": [
    "#1. Data Cleaning\n",
    "# Remove redundant features\n",
    "# Example: Drop identifiers or columns irrelevant to the analysis\n",
    "if 'Flow ID' in dataset.columns:\n",
    "    dataset.drop(['Flow ID'], axis=1, inplace=True)\n",
    "if 'Timestamp' in dataset.columns:\n",
    "    dataset.drop(['Timestamp'], axis=1, inplace=True)"
   ]
  },
  {
   "cell_type": "code",
   "execution_count": 37,
   "metadata": {
    "datalore": {
     "hide_input_from_viewers": false,
     "hide_output_from_viewers": false,
     "node_id": "RubdJlMaZgoKzwhYpmwARM",
     "report_properties": {
      "rowId": "3o1t5Ke8FmZHAMLPgVj2Kk"
     },
     "type": "CODE"
    }
   },
   "outputs": [],
   "source": [
    "import numpy as np\n",
    "# Replace infinite values with NaN\n",
    "dataset.replace([np.inf, -np.inf], np.nan, inplace=True)"
   ]
  },
  {
   "cell_type": "code",
   "execution_count": 38,
   "metadata": {
    "datalore": {
     "hide_input_from_viewers": false,
     "hide_output_from_viewers": false,
     "node_id": "ISMshHKFMrbwTaMsdHYfs3",
     "report_properties": {
      "rowId": "TDA0muqaCJlzku3qi6jcpn"
     },
     "type": "CODE"
    }
   },
   "outputs": [],
   "source": [
    "# Fill NaN values with the mean of their respective columns\n",
    "numeric_columns = dataset.select_dtypes(include=['float64', 'int64']).columns\n",
    "dataset[numeric_columns] = dataset[numeric_columns].fillna(dataset[numeric_columns].mean())"
   ]
  },
  {
   "cell_type": "code",
   "execution_count": 39,
   "metadata": {
    "datalore": {
     "hide_input_from_viewers": false,
     "hide_output_from_viewers": false,
     "node_id": "84SU3iSGe8RWd63aYzA7nG",
     "report_properties": {
      "rowId": "qIhDbDdsdWXlfZLeUmh7il"
     },
     "type": "CODE"
    }
   },
   "outputs": [],
   "source": [
    "#2. Feature Engineering\n",
    "from sklearn.preprocessing import MinMaxScaler\n",
    "\n",
    "# Scaling numerical features to a range between 0 and 1\n",
    "scaler = MinMaxScaler()\n",
    "dataset[numeric_columns] = scaler.fit_transform(dataset[numeric_columns])"
   ]
  },
  {
   "attachments": {},
   "cell_type": "markdown",
   "metadata": {
    "datalore": {
     "hide_input_from_viewers": false,
     "hide_output_from_viewers": false,
     "node_id": "6EUut9sgnPgNLEUKlQVBd9",
     "report_properties": {
      "rowId": "xXWXcKJZ9vJu5A27xZuguh"
     },
     "type": "MD"
    }
   },
   "source": [
    "Объяснение:\n",
    "Заменить бесконечные значения:\n",
    "\n",
    "Бесконечные значения (inf и -inf) могут возникать из-за ошибок деления на ноль или вычислительных артефактов. Эти значения заменяются на NaN с помощью replace.\n",
    "Заполнить пропущенные (NaN) значения:\n",
    "\n",
    "После замены бесконечных значений на NaN они заполняются средним значением соответствующих столбцов. Это гарантирует, что данные остаются полными и готовыми к масштабированию.\n",
    "Применить MinMaxScaler:\n",
    "\n",
    "MinMaxScaler масштабирует числовые признаки до диапазона [0, 1], гарантируя, что все признаки вносят одинаковый вклад в модель во время обучения.\n"
   ]
  },
  {
   "cell_type": "code",
   "execution_count": 40,
   "metadata": {
    "datalore": {
     "hide_input_from_viewers": false,
     "hide_output_from_viewers": false,
     "node_id": "9sVXWqZ7TsDlgrfx5WiDhy",
     "report_properties": {
      "rowId": "YQk8FdcULMALXWWkPYnGYR"
     },
     "type": "CODE"
    }
   },
   "outputs": [
    {
     "name": "stdout",
     "output_type": "stream",
     "text": [
      "\n",
      "Scaled Numerical Features (Sample):\n"
     ]
    },
    {
     "data": {
      "text/html": [
       "<div>\n",
       "<style scoped>\n",
       "    .dataframe tbody tr th:only-of-type {\n",
       "        vertical-align: middle;\n",
       "    }\n",
       "\n",
       "    .dataframe tbody tr th {\n",
       "        vertical-align: top;\n",
       "    }\n",
       "\n",
       "    .dataframe thead th {\n",
       "        text-align: right;\n",
       "    }\n",
       "</style>\n",
       "<table border=\"1\" class=\"dataframe\">\n",
       "  <thead>\n",
       "    <tr style=\"text-align: right;\">\n",
       "      <th></th>\n",
       "      <th>Flow Duration</th>\n",
       "      <th>Total Fwd Packets</th>\n",
       "      <th>Total Backward Packets</th>\n",
       "      <th>Total Length of Fwd Packets</th>\n",
       "      <th>Total Length of Bwd Packets</th>\n",
       "      <th>Fwd Packet Length Max</th>\n",
       "      <th>Fwd Packet Length Min</th>\n",
       "      <th>Fwd Packet Length Mean</th>\n",
       "      <th>Fwd Packet Length Std</th>\n",
       "      <th>Bwd Packet Length Max</th>\n",
       "      <th>...</th>\n",
       "      <th>act_data_pkt_fwd</th>\n",
       "      <th>min_seg_size_forward</th>\n",
       "      <th>Active Mean</th>\n",
       "      <th>Active Std</th>\n",
       "      <th>Active Max</th>\n",
       "      <th>Active Min</th>\n",
       "      <th>Idle Mean</th>\n",
       "      <th>Idle Std</th>\n",
       "      <th>Idle Max</th>\n",
       "      <th>Idle Min</th>\n",
       "    </tr>\n",
       "  </thead>\n",
       "  <tbody>\n",
       "    <tr>\n",
       "      <th>0</th>\n",
       "      <td>1.333333e-07</td>\n",
       "      <td>0.000005</td>\n",
       "      <td>0.000000</td>\n",
       "      <td>9.302326e-07</td>\n",
       "      <td>0.000000e+00</td>\n",
       "      <td>0.000242</td>\n",
       "      <td>0.002581</td>\n",
       "      <td>0.00101</td>\n",
       "      <td>0.0</td>\n",
       "      <td>0.000000</td>\n",
       "      <td>...</td>\n",
       "      <td>0.000005</td>\n",
       "      <td>0.999999</td>\n",
       "      <td>0.0</td>\n",
       "      <td>0.0</td>\n",
       "      <td>0.0</td>\n",
       "      <td>0.0</td>\n",
       "      <td>0.0</td>\n",
       "      <td>0.0</td>\n",
       "      <td>0.0</td>\n",
       "      <td>0.0</td>\n",
       "    </tr>\n",
       "    <tr>\n",
       "      <th>1</th>\n",
       "      <td>1.016667e-06</td>\n",
       "      <td>0.000000</td>\n",
       "      <td>0.000003</td>\n",
       "      <td>4.651163e-07</td>\n",
       "      <td>9.153974e-09</td>\n",
       "      <td>0.000242</td>\n",
       "      <td>0.002581</td>\n",
       "      <td>0.00101</td>\n",
       "      <td>0.0</td>\n",
       "      <td>0.000307</td>\n",
       "      <td>...</td>\n",
       "      <td>0.000000</td>\n",
       "      <td>0.999999</td>\n",
       "      <td>0.0</td>\n",
       "      <td>0.0</td>\n",
       "      <td>0.0</td>\n",
       "      <td>0.0</td>\n",
       "      <td>0.0</td>\n",
       "      <td>0.0</td>\n",
       "      <td>0.0</td>\n",
       "      <td>0.0</td>\n",
       "    </tr>\n",
       "    <tr>\n",
       "      <th>2</th>\n",
       "      <td>5.416666e-07</td>\n",
       "      <td>0.000000</td>\n",
       "      <td>0.000003</td>\n",
       "      <td>4.651163e-07</td>\n",
       "      <td>9.153974e-09</td>\n",
       "      <td>0.000242</td>\n",
       "      <td>0.002581</td>\n",
       "      <td>0.00101</td>\n",
       "      <td>0.0</td>\n",
       "      <td>0.000307</td>\n",
       "      <td>...</td>\n",
       "      <td>0.000000</td>\n",
       "      <td>0.999999</td>\n",
       "      <td>0.0</td>\n",
       "      <td>0.0</td>\n",
       "      <td>0.0</td>\n",
       "      <td>0.0</td>\n",
       "      <td>0.0</td>\n",
       "      <td>0.0</td>\n",
       "      <td>0.0</td>\n",
       "      <td>0.0</td>\n",
       "    </tr>\n",
       "    <tr>\n",
       "      <th>3</th>\n",
       "      <td>3.916666e-07</td>\n",
       "      <td>0.000000</td>\n",
       "      <td>0.000003</td>\n",
       "      <td>4.651163e-07</td>\n",
       "      <td>9.153974e-09</td>\n",
       "      <td>0.000242</td>\n",
       "      <td>0.002581</td>\n",
       "      <td>0.00101</td>\n",
       "      <td>0.0</td>\n",
       "      <td>0.000307</td>\n",
       "      <td>...</td>\n",
       "      <td>0.000000</td>\n",
       "      <td>0.999999</td>\n",
       "      <td>0.0</td>\n",
       "      <td>0.0</td>\n",
       "      <td>0.0</td>\n",
       "      <td>0.0</td>\n",
       "      <td>0.0</td>\n",
       "      <td>0.0</td>\n",
       "      <td>0.0</td>\n",
       "      <td>0.0</td>\n",
       "    </tr>\n",
       "    <tr>\n",
       "      <th>4</th>\n",
       "      <td>1.333333e-07</td>\n",
       "      <td>0.000005</td>\n",
       "      <td>0.000000</td>\n",
       "      <td>9.302326e-07</td>\n",
       "      <td>0.000000e+00</td>\n",
       "      <td>0.000242</td>\n",
       "      <td>0.002581</td>\n",
       "      <td>0.00101</td>\n",
       "      <td>0.0</td>\n",
       "      <td>0.000000</td>\n",
       "      <td>...</td>\n",
       "      <td>0.000005</td>\n",
       "      <td>0.999999</td>\n",
       "      <td>0.0</td>\n",
       "      <td>0.0</td>\n",
       "      <td>0.0</td>\n",
       "      <td>0.0</td>\n",
       "      <td>0.0</td>\n",
       "      <td>0.0</td>\n",
       "      <td>0.0</td>\n",
       "      <td>0.0</td>\n",
       "    </tr>\n",
       "  </tbody>\n",
       "</table>\n",
       "<p>5 rows × 77 columns</p>\n",
       "</div>"
      ],
      "text/plain": [
       "   Flow Duration  Total Fwd Packets  Total Backward Packets  \\\n",
       "0   1.333333e-07           0.000005                0.000000   \n",
       "1   1.016667e-06           0.000000                0.000003   \n",
       "2   5.416666e-07           0.000000                0.000003   \n",
       "3   3.916666e-07           0.000000                0.000003   \n",
       "4   1.333333e-07           0.000005                0.000000   \n",
       "\n",
       "   Total Length of Fwd Packets  Total Length of Bwd Packets  \\\n",
       "0                 9.302326e-07                 0.000000e+00   \n",
       "1                 4.651163e-07                 9.153974e-09   \n",
       "2                 4.651163e-07                 9.153974e-09   \n",
       "3                 4.651163e-07                 9.153974e-09   \n",
       "4                 9.302326e-07                 0.000000e+00   \n",
       "\n",
       "   Fwd Packet Length Max  Fwd Packet Length Min  Fwd Packet Length Mean  \\\n",
       "0               0.000242               0.002581                 0.00101   \n",
       "1               0.000242               0.002581                 0.00101   \n",
       "2               0.000242               0.002581                 0.00101   \n",
       "3               0.000242               0.002581                 0.00101   \n",
       "4               0.000242               0.002581                 0.00101   \n",
       "\n",
       "   Fwd Packet Length Std  Bwd Packet Length Max  ...  act_data_pkt_fwd  \\\n",
       "0                    0.0               0.000000  ...          0.000005   \n",
       "1                    0.0               0.000307  ...          0.000000   \n",
       "2                    0.0               0.000307  ...          0.000000   \n",
       "3                    0.0               0.000307  ...          0.000000   \n",
       "4                    0.0               0.000000  ...          0.000005   \n",
       "\n",
       "   min_seg_size_forward  Active Mean  Active Std  Active Max  Active Min  \\\n",
       "0              0.999999          0.0         0.0         0.0         0.0   \n",
       "1              0.999999          0.0         0.0         0.0         0.0   \n",
       "2              0.999999          0.0         0.0         0.0         0.0   \n",
       "3              0.999999          0.0         0.0         0.0         0.0   \n",
       "4              0.999999          0.0         0.0         0.0         0.0   \n",
       "\n",
       "   Idle Mean  Idle Std  Idle Max  Idle Min  \n",
       "0        0.0       0.0       0.0       0.0  \n",
       "1        0.0       0.0       0.0       0.0  \n",
       "2        0.0       0.0       0.0       0.0  \n",
       "3        0.0       0.0       0.0       0.0  \n",
       "4        0.0       0.0       0.0       0.0  \n",
       "\n",
       "[5 rows x 77 columns]"
      ]
     },
     "execution_count": 40,
     "metadata": {},
     "output_type": "execute_result"
    }
   ],
   "source": [
    "print(\"\\nScaled Numerical Features (Sample):\")\n",
    "dataset[numeric_columns].head()"
   ]
  },
  {
   "cell_type": "code",
   "execution_count": 41,
   "metadata": {
    "datalore": {
     "hide_input_from_viewers": false,
     "hide_output_from_viewers": false,
     "node_id": "PomONE9OWl5z6UOKVnXtuR",
     "report_properties": {
      "rowId": "JNbsOS58y8PmspLvdozTGz"
     },
     "type": "CODE"
    }
   },
   "outputs": [],
   "source": [
    "# Encoding Categorical Features:\n",
    "from sklearn.preprocessing import LabelEncoder\n",
    "\n",
    "# Encode categorical columns (e.g., Protocol, Flags)\n",
    "categorical_columns = dataset.select_dtypes(include=['object']).columns\n",
    "label_encoders = {}\n",
    "\n",
    "for col in categorical_columns:\n",
    "    label_encoders[col] = LabelEncoder()\n",
    "    dataset[col] = label_encoders[col].fit_transform(dataset[col].astype(str))"
   ]
  },
  {
   "cell_type": "code",
   "execution_count": 42,
   "metadata": {
    "datalore": {
     "hide_input_from_viewers": false,
     "hide_output_from_viewers": false,
     "node_id": "9BHIim5bIxQ5udZXjbTIPt",
     "report_properties": {
      "rowId": "l8vjw389Tn2VIVr2jfBdFg"
     },
     "type": "CODE"
    }
   },
   "outputs": [
    {
     "name": "stdout",
     "output_type": "stream",
     "text": [
      "\n",
      "Encoded Categorical Features (Sample):\n",
      "   Destination Port  Label\n",
      "0             36140      0\n",
      "1             36348      0\n",
      "2             36349      0\n",
      "3             26848      0\n",
      "4             36138      0\n"
     ]
    }
   ],
   "source": [
    "print(\"\\nEncoded Categorical Features (Sample):\")\n",
    "print(dataset[categorical_columns].head())"
   ]
  },
  {
   "cell_type": "code",
   "execution_count": 43,
   "metadata": {
    "datalore": {
     "hide_input_from_viewers": false,
     "hide_output_from_viewers": false,
     "node_id": "YbNo6orlxJdr8IilAuAi2A",
     "report_properties": {
      "rowId": "FlUIU1ioITzQL4NB4GGz2H"
     },
     "type": "CODE"
    }
   },
   "outputs": [],
   "source": [
    "#3. Data Balancing\n",
    "from sklearn.utils import resample\n",
    "from imblearn.over_sampling import RandomOverSampler\n",
    "from collections import Counter"
   ]
  },
  {
   "cell_type": "code",
   "execution_count": 44,
   "metadata": {
    "datalore": {
     "hide_input_from_viewers": false,
     "hide_output_from_viewers": false,
     "node_id": "GZ5ydnttnX3RekHMSPtNvi",
     "report_properties": {
      "rowId": "uuQoXTU0zHK2Bi5IRb0PSJ"
     },
     "type": "CODE"
    }
   },
   "outputs": [],
   "source": [
    "# Separate features and target\n",
    "X = dataset.drop(columns=['Label'])\n",
    "y = dataset['Label']"
   ]
  },
  {
   "cell_type": "code",
   "execution_count": 45,
   "metadata": {
    "datalore": {
     "hide_input_from_viewers": false,
     "hide_output_from_viewers": false,
     "node_id": "vfmiMwupY3AaNkVS9Iywxy",
     "report_properties": {
      "rowId": "YHw3ZuZF9I6pFNTOzGzzZm"
     },
     "type": "CODE"
    }
   },
   "outputs": [],
   "source": [
    "# Apply Random Oversampling to balance the dataset\n",
    "ros = RandomOverSampler(random_state=42)\n",
    "X_balanced, y_balanced = ros.fit_resample(X, y)"
   ]
  },
  {
   "attachments": {},
   "cell_type": "markdown",
   "metadata": {
    "datalore": {
     "hide_input_from_viewers": false,
     "hide_output_from_viewers": false,
     "node_id": "k2BzX0qorCIpnn4syCuyGo",
     "report_properties": {
      "rowId": "p2kt1VpQbf3vwm0nCYuBiU"
     },
     "type": "MD"
    }
   },
   "source": [
    "Random Oversampling :\n",
    "\n",
    "Выбрано вместо SMOTE, чтобы избежать вычислительных издержек и ошибок, вызванных малыми размерами выборки в классах меньшинства. Случайная избыточная выборка проще и эффективнее для поддержания баланса классов в больших наборах данных."
   ]
  },
  {
   "cell_type": "code",
   "execution_count": 46,
   "metadata": {
    "datalore": {
     "hide_input_from_viewers": false,
     "hide_output_from_viewers": false,
     "node_id": "NUPMUbGr2J5OPgrxmjzgzz",
     "report_properties": {
      "rowId": "qpRsvdZUeoFoA8XvMKWgvO"
     },
     "type": "CODE"
    }
   },
   "outputs": [
    {
     "name": "stdout",
     "output_type": "stream",
     "text": [
      "\n",
      "Class Distribution After Random Oversampling:\n",
      "Counter({0: 1672838, 2: 1672838, 9: 1672838, 1: 1672838, 8: 1672838, 6: 1672838, 5: 1672838, 4: 1672838, 3: 1672838, 7: 1672838})\n"
     ]
    }
   ],
   "source": [
    "# Check the class distribution after balancing\n",
    "print(\"\\nClass Distribution After Random Oversampling:\")\n",
    "print(Counter(y_balanced))"
   ]
  },
  {
   "cell_type": "code",
   "execution_count": 47,
   "metadata": {
    "datalore": {
     "hide_input_from_viewers": false,
     "hide_output_from_viewers": false,
     "node_id": "JtxYy6pObvaM0UQjeC0Qvh",
     "report_properties": {
      "rowId": "zbJOSC0Ipc6Vxks1W2RQaV"
     },
     "type": "CODE"
    }
   },
   "outputs": [],
   "source": [
    "#4. Train-Test Split\n",
    "from sklearn.model_selection import train_test_split\n",
    "\n",
    "# Split the data into training (70%), validation (15%), and testing (15%)\n",
    "X_train, X_temp, y_train, y_temp = train_test_split(X_balanced, y_balanced, test_size=0.3, stratify=y_balanced, random_state=42)\n",
    "X_val, X_test, y_val, y_test = train_test_split(X_temp, y_temp, test_size=0.5, stratify=y_temp, random_state=42)"
   ]
  },
  {
   "cell_type": "code",
   "execution_count": 48,
   "metadata": {
    "datalore": {
     "hide_input_from_viewers": false,
     "hide_output_from_viewers": false,
     "node_id": "1cl8WDdeY1oP0hLf4pBoqF",
     "report_properties": {
      "rowId": "NCWWtCDXcATe6Li6YMCWdQ"
     },
     "type": "CODE"
    }
   },
   "outputs": [
    {
     "name": "stdout",
     "output_type": "stream",
     "text": [
      "\n",
      "Dataset Splits:\n",
      "Training Set Size: (11709866, 78)\n",
      "Validation Set Size: (2509257, 78)\n",
      "Test Set Size: (2509257, 78)\n"
     ]
    }
   ],
   "source": [
    "# Print the sizes of the splits\n",
    "print(\"\\nDataset Splits:\")\n",
    "print(f\"Training Set Size: {X_train.shape}\")\n",
    "print(f\"Validation Set Size: {X_val.shape}\")\n",
    "print(f\"Test Set Size: {X_test.shape}\")"
   ]
  },
  {
   "cell_type": "code",
   "execution_count": 49,
   "metadata": {
    "datalore": {
     "hide_input_from_viewers": false,
     "hide_output_from_viewers": false,
     "node_id": "kkw99SdxZnMzjpj9kNO61Q",
     "report_properties": {
      "rowId": "jnZzGFnye7xkENFPRUbBCe"
     },
     "type": "CODE"
    }
   },
   "outputs": [],
   "source": [
    "# 5. Dimensionality Reduction\n",
    "#We use Principal Component Analysis (PCA) to reduce the dimensionality of the dataset while retaining significant variance.\n",
    "from sklearn.decomposition import PCA\n",
    "from sklearn.preprocessing import StandardScaler\n",
    "\n",
    "# Standardize features before applying PCA\n",
    "scaler = StandardScaler()\n",
    "X_train_scaled = scaler.fit_transform(X_train)\n",
    "X_val_scaled = scaler.transform(X_val)\n",
    "X_test_scaled = scaler.transform(X_test)"
   ]
  },
  {
   "cell_type": "code",
   "execution_count": 50,
   "metadata": {
    "datalore": {
     "hide_input_from_viewers": false,
     "hide_output_from_viewers": false,
     "node_id": "yUmpo6F2WNbNxm9Fx2bGQ8",
     "report_properties": {
      "rowId": "TftmTdCqlU092pmPTIawlM"
     },
     "type": "CODE"
    }
   },
   "outputs": [],
   "source": [
    "# Applying PCA to reduce the number of features\n",
    "pca = PCA(n_components=20)  # Adjust components as needed\n",
    "X_train_pca = pca.fit_transform(X_train_scaled)\n",
    "X_val_pca = pca.transform(X_val_scaled)\n",
    "X_test_pca = pca.transform(X_test_scaled)"
   ]
  },
  {
   "attachments": {},
   "cell_type": "markdown",
   "metadata": {
    "datalore": {
     "hide_input_from_viewers": false,
     "hide_output_from_viewers": false,
     "node_id": "WTb3GAsBGhLEaWg81sP8pK",
     "report_properties": {
      "rowId": "fvxkLD1wqKikHltpN61gS9"
     },
     "type": "MD"
    }
   },
   "source": [
    "PCA:\n",
    "\n",
    "Уменьшает размерность набора данных, сохраняя при этом критическую дисперсию, повышая вычислительную эффективность и снижая риск переобучения."
   ]
  },
  {
   "cell_type": "code",
   "execution_count": 51,
   "metadata": {
    "datalore": {
     "hide_input_from_viewers": false,
     "hide_output_from_viewers": false,
     "node_id": "ZL1a82SGhqTkZQ3tMlx2lg",
     "report_properties": {
      "rowId": "XmKDt1E22JncNjzLKobm7K"
     },
     "type": "CODE"
    }
   },
   "outputs": [
    {
     "name": "stdout",
     "output_type": "stream",
     "text": [
      "\n",
      "Explained Variance Ratio by PCA:\n",
      "[0.18708936 0.15330148 0.08593218 0.05788657 0.05271338 0.04260459\n",
      " 0.03772375 0.03436908 0.03311369 0.03120593 0.02857492 0.0285509\n",
      " 0.02506831 0.02173097 0.01802378 0.01697874 0.01597518 0.01458274\n",
      " 0.01369736 0.01282917]\n"
     ]
    }
   ],
   "source": [
    "# Print explained variance ratio for PCA components\n",
    "print(\"\\nExplained Variance Ratio by PCA:\")\n",
    "print(pca.explained_variance_ratio_)"
   ]
  },
  {
   "cell_type": "code",
   "execution_count": 52,
   "metadata": {
    "datalore": {
     "hide_input_from_viewers": false,
     "hide_output_from_viewers": false,
     "node_id": "5mxJKjVdQiiNgXG1fF7mk6",
     "report_properties": {
      "rowId": "vxD7jXAU3wopnir28VUNpn"
     },
     "type": "CODE"
    }
   },
   "outputs": [
    {
     "data": {
      "image/png": "[encoded data removed]",
      "text/plain": [
       "<Figure size 800x400 with 1 Axes>"
      ]
     },
     "metadata": {},
     "output_type": "display_data"
    }
   ],
   "source": [
    "#6. Visualization of Preprocessing Results\n",
    "#Мы визуализируем влияние балансировки данных и PCA на набор данных.\n",
    "\n",
    "#Class Distribution Before and After Balancing:\n",
    "\n",
    "import seaborn as sns\n",
    "import matplotlib.pyplot as plt\n",
    "\n",
    "# Plot class distribution before balancing\n",
    "plt.figure(figsize=(8, 4))\n",
    "sns.countplot(x=dataset['Label'])\n",
    "plt.title(\"Class Distribution Before Balancing\")\n",
    "plt.show()\n"
   ]
  },
  {
   "cell_type": "code",
   "execution_count": 53,
   "metadata": {
    "datalore": {
     "hide_input_from_viewers": false,
     "hide_output_from_viewers": false,
     "node_id": "qAn0erpvTcxdkLNMiQZRZx",
     "report_properties": {
      "rowId": "PAKV65SXy16IjXrMyQDKAv"
     },
     "type": "CODE"
    }
   },
   "outputs": [
    {
     "data": {
      "image/png": "[encoded data removed]",
      "text/plain": [
       "<Figure size 800x400 with 1 Axes>"
      ]
     },
     "metadata": {},
     "output_type": "display_data"
    }
   ],
   "source": [
    "# Plot class distribution after balancing\n",
    "plt.figure(figsize=(8, 4))\n",
    "sns.countplot(x=y_balanced)\n",
    "plt.title(\"Class Distribution After Balancing\")\n",
    "plt.show()"
   ]
  },
  {
   "cell_type": "code",
   "execution_count": 54,
   "metadata": {
    "datalore": {
     "hide_input_from_viewers": false,
     "hide_output_from_viewers": false,
     "node_id": "yDN1p042CVJi7nhsfuXxVV",
     "report_properties": {
      "rowId": "B7W011AcIG4QorLnFtpbjZ"
     },
     "type": "CODE"
    }
   },
   "outputs": [
    {
     "data": {
      "image/png": "[encoded data removed]",
      "text/plain": [
       "<Figure size 800x400 with 1 Axes>"
      ]
     },
     "metadata": {},
     "output_type": "display_data"
    }
   ],
   "source": [
    "#Cumulative Explained Variance by PCA Components:\n",
    "\n",
    "# Cumulative explained variance plot\n",
    "cumulative_variance = np.cumsum(pca.explained_variance_ratio_)\n",
    "plt.figure(figsize=(8, 4))\n",
    "plt.plot(cumulative_variance, marker='o')\n",
    "plt.title(\"Cumulative Explained Variance by PCA Components\")\n",
    "plt.xlabel(\"Number of Principal Components\")\n",
    "plt.ylabel(\"Cumulative Variance Explained\")\n",
    "plt.grid()\n",
    "plt.show()"
   ]
  },
  {
   "attachments": {},
   "cell_type": "markdown",
   "metadata": {
    "datalore": {
     "hide_input_from_viewers": false,
     "hide_output_from_viewers": false,
     "node_id": "cCHPUq1ZkKhZwybXF6iCvF",
     "report_properties": {
      "rowId": "moSqFOCzxPsVsvEdFfm5zv"
     },
     "type": "MD"
    }
   },
   "source": [
    "# ***2.3. Construction and Implementation of Cyber Threat Analysis Models***"
   ]
  },
  {
   "attachments": {},
   "cell_type": "markdown",
   "metadata": {
    "datalore": {
     "hide_input_from_viewers": false,
     "hide_output_from_viewers": false,
     "node_id": "NZ8l0z2aZPt9GS0kHS5G40",
     "report_properties": {
      "rowId": "UnQmnmWUIhZ4YUf8vk62Er"
     },
     "type": "MD"
    }
   },
   "source": [
    "1. Classification Models"
   ]
  },
  {
   "cell_type": "code",
   "execution_count": 55,
   "metadata": {
    "datalore": {
     "hide_input_from_viewers": false,
     "hide_output_from_viewers": false,
     "node_id": "lKWoAAf5qr4yyT2GiCd75E",
     "report_properties": {
      "rowId": "58DFEanrMb0ev3wrYJUIUG"
     },
     "type": "CODE"
    }
   },
   "outputs": [],
   "source": [
    "from sklearn.linear_model import LogisticRegression\n",
    "from sklearn.metrics import classification_report, confusion_matrix"
   ]
  },
  {
   "cell_type": "code",
   "execution_count": null,
   "metadata": {
    "datalore": {
     "hide_input_from_viewers": false,
     "hide_output_from_viewers": false,
     "node_id": "NK4vCsLXJlMPmuH7NZuSF5",
     "report_properties": {
      "rowId": "b6bsUh4vOivgdyvWm6sNAU"
     },
     "type": "CODE"
    }
   },
   "outputs": [],
   "source": [
    "# Train Logistic Regression\n",
    "logistic_model = LogisticRegression(random_state=42, max_iter=500)\n",
    "logistic_model.fit(X_train_pca, y_train)"
   ]
  },
  {
   "cell_type": "code",
   "execution_count": null,
   "metadata": {
    "datalore": {
     "hide_input_from_viewers": false,
     "hide_output_from_viewers": false,
     "node_id": "5xLLCSM7RDy8MFxUKXyU5s",
     "report_properties": {
      "rowId": "9yCLDWQThEynaKqT7nO75J"
     },
     "type": "CODE"
    }
   },
   "outputs": [],
   "source": [
    "# Evaluate on validation set\n",
    "y_pred_logistic = logistic_model.predict(X_val_pca)"
   ]
  },
  {
   "cell_type": "code",
   "execution_count": null,
   "metadata": {
    "datalore": {
     "hide_input_from_viewers": false,
     "hide_output_from_viewers": false,
     "node_id": "s6HLXZEeP5o2J6njphPC8Q",
     "report_properties": {
      "rowId": "jCz4QUWo0h5VC1pq2Lutwj"
     },
     "type": "CODE"
    },
    "scrolled": true
   },
   "outputs": [],
   "source": [
    "print(\"\\nLogistic Regression Performance:\")\n",
    "print(classification_report(y_val, y_pred_logistic))"
   ]
  },
  {
   "cell_type": "code",
   "execution_count": null,
   "metadata": {
    "datalore": {
     "hide_input_from_viewers": false,
     "hide_output_from_viewers": false,
     "node_id": "BT7cHjnaHNmCg6S7RyO0zm",
     "report_properties": {
      "rowId": "Z7Ppr39uh3EWVGpveeoIEj"
     },
     "type": "CODE"
    }
   },
   "outputs": [],
   "source": [
    "print(\"Confusion Matrix:\")\n",
    "confusion_matrix(y_test, y_pred_logistic)"
   ]
  },
  {
   "attachments": {},
   "cell_type": "markdown",
   "metadata": {
    "datalore": {
     "hide_input_from_viewers": false,
     "hide_output_from_viewers": false,
     "node_id": "6nhRWizPZMUNuNkvhugDN1",
     "report_properties": {
      "rowId": "MsVISgm7DmmnVIph0MJNjB"
     },
     "type": "MD"
    }
   },
   "source": [
    "Объяснение:\n",
    "\n",
    "- Этот код обучает модель логистической регрессии на PCA-сокращенных признаках (X_train_pca) и оценивает ее производительность на тестовом наборе.\n",
    "- Оценка проводится с использованием таких метрик, как точность, полнота, F1-оценка и матрица путаницы.\n",
    "- Логистическая регрессия служит базой из-за своей простоты и эффективности для линейно разделяемых данных."
   ]
  },
  {
   "cell_type": "code",
   "execution_count": null,
   "metadata": {
    "datalore": {
     "hide_input_from_viewers": false,
     "hide_output_from_viewers": false,
     "node_id": "vdazWFW5eIVNF3L82D7HrD",
     "report_properties": {
      "rowId": "jXIELLg4CKTw4KWqKasLbb"
     },
     "type": "CODE"
    }
   },
   "outputs": [],
   "source": [
    "#Decision Trees\n",
    "from sklearn.tree import DecisionTreeClassifier\n",
    "\n",
    "# Train Decision Tree Classifier\n",
    "decision_tree = DecisionTreeClassifier(random_state=42, max_depth=10)\n",
    "decision_tree.fit(X_train_pca, y_train)"
   ]
  },
  {
   "cell_type": "code",
   "execution_count": null,
   "metadata": {
    "datalore": {
     "hide_input_from_viewers": false,
     "hide_output_from_viewers": false,
     "node_id": "2rzYpcFXnZsRkvxdKAoxmt",
     "report_properties": {
      "rowId": "73RUD52uDmaquGJcZ9af65"
     },
     "type": "CODE"
    }
   },
   "outputs": [],
   "source": [
    "# Evaluate on validation set\n",
    "y_pred_tree = decision_tree.predict(X_val_pca)"
   ]
  },
  {
   "cell_type": "code",
   "execution_count": null,
   "metadata": {
    "datalore": {
     "hide_input_from_viewers": false,
     "hide_output_from_viewers": false,
     "node_id": "j4AnhW09xSW7aZP6ugkKTk",
     "report_properties": {
      "rowId": "mQbjpM9V3espkcHLomyMXC"
     },
     "type": "CODE"
    }
   },
   "outputs": [],
   "source": [
    "print(\"\\nDecision Tree Performance:\")\n",
    "print(classification_report(y_val, y_pred_tree))"
   ]
  },
  {
   "attachments": {},
   "cell_type": "markdown",
   "metadata": {
    "datalore": {
     "hide_input_from_viewers": false,
     "hide_output_from_viewers": false,
     "node_id": "xWgJmjFgBeNeHh8n25Xx4g",
     "report_properties": {
      "rowId": "s3wTZTG4WUdGtSXz3MNfBy"
     },
     "type": "MD"
    }
   },
   "source": [
    "- Деревья решений иерархически разделяют данные на основе пороговых значений признаков, что делает их интерпретируемыми и эффективными для небольших наборов данных."
   ]
  },
  {
   "cell_type": "code",
   "execution_count": null,
   "metadata": {
    "datalore": {
     "hide_input_from_viewers": false,
     "hide_output_from_viewers": false,
     "node_id": "Maobg99mE2pOYW9BGNkfwQ",
     "report_properties": {
      "rowId": "x05gUtVqgMrZmGWPQAHwM6"
     },
     "type": "CODE"
    }
   },
   "outputs": [],
   "source": [
    "#Random Forests\n",
    "from sklearn.ensemble import RandomForestClassifier\n",
    "\n",
    "# Train Random Forest Classifier\n",
    "random_forest = RandomForestClassifier(n_estimators=100, max_depth=10, random_state=42)\n",
    "random_forest.fit(X_train_pca, y_train)"
   ]
  },
  {
   "cell_type": "code",
   "execution_count": null,
   "metadata": {
    "datalore": {
     "hide_input_from_viewers": false,
     "hide_output_from_viewers": false,
     "node_id": "0OryZ2Co7CLm5Z0O3y9JPH",
     "report_properties": {
      "rowId": "Mh5nquXVouasWd3IeaOQFn"
     },
     "type": "CODE"
    }
   },
   "outputs": [],
   "source": [
    "# Evaluate on validation set\n",
    "y_pred_forest = random_forest.predict(X_test_pca)"
   ]
  },
  {
   "cell_type": "code",
   "execution_count": null,
   "metadata": {
    "datalore": {
     "hide_input_from_viewers": false,
     "hide_output_from_viewers": false,
     "node_id": "7sApPwPJPqDt18kmpfP9A8",
     "report_properties": {
      "rowId": "erQYmGzzuomaCRBHRutoZK"
     },
     "type": "CODE"
    }
   },
   "outputs": [],
   "source": [
    "print(\"\\nRandom Forest Performance:\")\n",
    "print(classification_report(y_test, y_pred_forest))"
   ]
  },
  {
   "attachments": {},
   "cell_type": "markdown",
   "metadata": {
    "datalore": {
     "hide_input_from_viewers": false,
     "hide_output_from_viewers": false,
     "node_id": "Y53QfEKc7gVoQHMwP58Vu3",
     "report_properties": {
      "rowId": "EUoJ1fwUhoKpQda6L5WOjh"
     },
     "type": "MD"
    }
   },
   "source": [
    "- Случайные леса объединяют несколько деревьев решений для лучшего обобщения и предоставляют метрики важности признаков, которые могут выделить ключевые атрибуты для классификации."
   ]
  },
  {
   "cell_type": "code",
   "execution_count": null,
   "metadata": {
    "datalore": {
     "hide_input_from_viewers": false,
     "hide_output_from_viewers": false,
     "node_id": "WTYfUzGt8BvYCB5dtfy0LE",
     "report_properties": {
      "rowId": "3bCtYm1LyocNg8AZSF12yw"
     },
     "type": "CODE"
    }
   },
   "outputs": [],
   "source": [
    "from sklearn.preprocessing import LabelEncoder\n",
    "\n",
    "# Initialize LabelEncoder\n",
    "label_encoder = LabelEncoder()\n",
    "\n",
    "# Fit and transform the labels for all splits\n",
    "y_train_encoded = label_encoder.fit_transform(y_train)\n",
    "y_val_encoded = label_encoder.transform(y_val)\n",
    "y_test_encoded = label_encoder.transform(y_test)\n",
    "\n",
    "# Print the mapping for verification\n",
    "print(\"\\nLabel Mapping:\")\n",
    "print(dict(zip(label_encoder.classes_, label_encoder.transform(label_encoder.classes_))))"
   ]
  },
  {
   "attachments": {},
   "cell_type": "markdown",
   "metadata": {
    "datalore": {
     "hide_input_from_viewers": false,
     "hide_output_from_viewers": false,
     "node_id": "fGj7A2dcXs7mzzv52VGUpN",
     "report_properties": {
      "rowId": "kyoPaQiCacPQk9nLqDqr65"
     },
     "type": "MD"
    }
   },
   "source": [
    "Explanation\n",
    "Why Encode Labels?\n",
    "\n",
    "XGBoost relies on sequential class labels for internal processing. Re-encoding ensures compatibility with the algorithm.\n",
    "Why Decode Predictions?\n",
    "\n",
    "Decoding allows you to interpret the predictions in terms of the original labels (e.g., attack types)."
   ]
  },
  {
   "cell_type": "code",
   "execution_count": null,
   "metadata": {
    "datalore": {
     "hide_input_from_viewers": false,
     "hide_output_from_viewers": false,
     "node_id": "ID4fqizBSGoXt2K6vyFLt6",
     "report_properties": {
      "rowId": "RJ8PQHMzV4tjZlV7YHx9ht"
     },
     "type": "CODE"
    }
   },
   "outputs": [],
   "source": [
    "#XGBoost\n",
    "from xgboost import XGBClassifier\n",
    "\n",
    "# Train XGBoost Classifier with encoded labels\n",
    "xgb_model = XGBClassifier(\n",
    "    random_state=42,\n",
    "    use_label_encoder=False,\n",
    "    eval_metric='mlogloss')\n",
    "    #max_depth=10,\n",
    "    #learning_rate=0.1,\n",
    "    #n_estimators=100\n",
    "#)\n",
    "xgb_model.fit(X_train_pca, y_train_encoded)\n"
   ]
  },
  {
   "cell_type": "code",
   "execution_count": null,
   "metadata": {
    "datalore": {
     "hide_input_from_viewers": false,
     "hide_output_from_viewers": false,
     "node_id": "t4oH5i1TfcItHgltWlp9qw",
     "report_properties": {
      "rowId": "1BW3WSSbAp5YZGMtHSunxA"
     },
     "type": "CODE"
    }
   },
   "outputs": [],
   "source": [
    "# Evaluate on validation set\n",
    "y_pred_xgb = xgb_model.predict(X_val_pca)"
   ]
  },
  {
   "cell_type": "code",
   "execution_count": null,
   "metadata": {
    "datalore": {
     "hide_input_from_viewers": false,
     "hide_output_from_viewers": false,
     "node_id": "CBvL6H1jKezARP1gy92z1F",
     "report_properties": {
      "rowId": "v8rdGXG9YBmQfhZG233gpG"
     },
     "type": "CODE"
    }
   },
   "outputs": [],
   "source": [
    "from sklearn.metrics import classification_report\n",
    "\n",
    "# Decode predictions back to original labels (optional for interpretability)\n",
    "y_pred_xgb_decoded = label_encoder.inverse_transform(y_pred_xgb)\n",
    "\n",
    "# Print classification report\n",
    "print(\"\\nXGBoost Performance:\")\n",
    "print(classification_report(y_val, y_pred_xgb_decoded))"
   ]
  },
  {
   "attachments": {},
   "cell_type": "markdown",
   "metadata": {
    "datalore": {
     "hide_input_from_viewers": false,
     "hide_output_from_viewers": false,
     "node_id": "UUbUsYTsqM80dVqkSdREsD",
     "report_properties": {
      "rowId": "5us5Vtd3gEs2OexGHn9iSJ"
     },
     "type": "MD"
    }
   },
   "source": [
    "Объяснение:\n",
    "\n",
    "XGBoost — это усовершенствованный алгоритм повышения, который итеративно минимизирует ошибки классификации.\n",
    "Он хорошо справляется с несбалансированными наборами данных посредством регуляризации и является вычислительно эффективным для больших наборов данных."
   ]
  },
  {
   "attachments": {},
   "cell_type": "markdown",
   "metadata": {
    "datalore": {
     "hide_input_from_viewers": false,
     "hide_output_from_viewers": false,
     "node_id": "er1zfZgJ9re7ilsYHy5GjP",
     "report_properties": {
      "rowId": "3vk8ygyZdVXLrL5FJrM7SF"
     },
     "type": "MD"
    }
   },
   "source": [
    "**2. Anomaly Detection Models**"
   ]
  },
  {
   "cell_type": "code",
   "execution_count": null,
   "metadata": {
    "datalore": {
     "hide_input_from_viewers": false,
     "hide_output_from_viewers": false,
     "node_id": "H3XRtd60a9pPaFNG4tqjPM",
     "report_properties": {
      "rowId": "Ekcij30r8qmpBS1snDz36S"
     },
     "type": "CODE"
    }
   },
   "outputs": [],
   "source": [
    "#Autoencoders\n",
    "\n",
    "from tensorflow.keras.models import Sequential\n",
    "from tensorflow.keras.layers import Dense\n",
    "from sklearn.metrics import mean_squared_error"
   ]
  },
  {
   "cell_type": "code",
   "execution_count": null,
   "metadata": {
    "datalore": {
     "hide_input_from_viewers": false,
     "hide_output_from_viewers": false,
     "node_id": "hZvSdU76G7y6Q4pBPhcXOx",
     "report_properties": {
      "rowId": "BjjwiC7yaKKXbKv1gQKBnz"
     },
     "type": "CODE"
    }
   },
   "outputs": [],
   "source": [
    "# Defining the autoencoder model\n",
    "autoencoder = Sequential([\n",
    "    Dense(32, activation='relu', input_dim=X_train_pca.shape[1]),\n",
    "    Dense(16, activation='relu'),\n",
    "    Dense(32, activation='relu'),\n",
    "    Dense(X_train_pca.shape[1], activation='sigmoid')\n",
    "])"
   ]
  },
  {
   "cell_type": "code",
   "execution_count": null,
   "metadata": {
    "datalore": {
     "hide_input_from_viewers": false,
     "hide_output_from_viewers": false,
     "node_id": "5USRpraBr24m1ikd35ZPDg",
     "report_properties": {
      "rowId": "8NY7lDsNQmUTnE3lOqk5tb"
     },
     "type": "CODE"
    }
   },
   "outputs": [],
   "source": [
    "# Compile the model\n",
    "autoencoder.compile(optimizer='adam', loss='mse')"
   ]
  },
  {
   "cell_type": "code",
   "execution_count": null,
   "metadata": {
    "datalore": {
     "hide_input_from_viewers": false,
     "hide_output_from_viewers": false,
     "node_id": "5HQIXxz8foPxELEpI4LhQM",
     "report_properties": {
      "rowId": "JaLMsuXLZNfLCh2hElL4Uy"
     },
     "type": "CODE"
    }
   },
   "outputs": [],
   "source": [
    "# Calculate reconstruction error on the test set\n",
    "reconstructed = autoencoder.predict(X_test_pca)\n",
    "reconstruction_error = np.mean(np.square(X_test_pca - reconstructed), axis=1)"
   ]
  },
  {
   "cell_type": "code",
   "execution_count": null,
   "metadata": {
    "datalore": {
     "hide_input_from_viewers": false,
     "hide_output_from_viewers": false,
     "node_id": "wg3VlAu9ko1B1qHlImWQBs",
     "report_properties": {
      "rowId": "XkQi7B9D3aAJ9prxDPbwuE"
     },
     "type": "CODE"
    }
   },
   "outputs": [],
   "source": [
    "# Set a threshold for anomaly detection\n",
    "threshold = np.percentile(reconstruction_error, 95)\n",
    "anomalies = reconstruction_error > threshold\n",
    "print(f\"Number of anomalies detected: {np.sum(anomalies)}\")"
   ]
  },
  {
   "attachments": {},
   "cell_type": "markdown",
   "metadata": {
    "datalore": {
     "hide_input_from_viewers": false,
     "hide_output_from_viewers": false,
     "node_id": "7JoC1LLuhZsUER63Aqd7AX",
     "report_properties": {
      "rowId": "5uzKx9ZvO24fE2vDjyC2Z0"
     },
     "type": "MD"
    }
   },
   "source": [
    "Объяснение:\n",
    "\n",
    "- Autoencoders изучают сжатое представление доброкачественного трафика и реконструируют его с минимальными потерями. Высокая ошибка реконструкции сигнализирует об аномалиях (Potential attacks).\n",
    "- Модель обучается только на доброкачественных данных, что делает ее пригодной для обнаружения новых атак."
   ]
  },
  {
   "cell_type": "code",
   "execution_count": null,
   "metadata": {
    "datalore": {
     "hide_input_from_viewers": false,
     "hide_output_from_viewers": false,
     "node_id": "QCVhvoiByvqJpvYYOKf6HD",
     "report_properties": {
      "rowId": "S0XGBGUlB3zvYETF7C90rf"
     },
     "type": "CODE"
    }
   },
   "outputs": [],
   "source": [
    "#2 K-Means Clustering\n",
    "from sklearn.cluster import KMeans\n",
    "from sklearn.metrics import silhouette_score\n",
    "\n",
    "# Train K-Means Clustering\n",
    "kmeans = KMeans(n_clusters=10, random_state=42)\n",
    "kmeans.fit(X_train_pca)"
   ]
  },
  {
   "cell_type": "code",
   "execution_count": null,
   "metadata": {
    "datalore": {
     "hide_input_from_viewers": false,
     "hide_output_from_viewers": false,
     "node_id": "nvtUsIx9YhJphHW8YjAzsX",
     "report_properties": {
      "rowId": "VRqVm12YTFolmLwkOTK0NO"
     },
     "type": "CODE"
    }
   },
   "outputs": [],
   "source": [
    "# Assign clusters to test data and calculate distances\n",
    "cluster_distances = kmeans.transform(X_test_pca)\n",
    "outliers = np.min(cluster_distances, axis=1) > np.percentile(np.min(cluster_distances, axis=1), 95)\n",
    "print(f\"Number of anomalies detected by K-Means: {np.sum(outliers)}\")"
   ]
  },
  {
   "attachments": {},
   "cell_type": "markdown",
   "metadata": {
    "datalore": {
     "hide_input_from_viewers": false,
     "hide_output_from_viewers": false,
     "node_id": "YfoBD4VjjeCsSIPEx8LroY",
     "report_properties": {
      "rowId": "V7FXImERfL7K3vB08p7pt4"
     },
     "type": "MD"
    }
   },
   "source": [
    "K-means custering выявляет закономерности в данных, группируя их в кластеры. Точки, далекие от любого центра кластера, помечаются как потенциальные аномалии."
   ]
  },
  {
   "cell_type": "code",
   "execution_count": null,
   "metadata": {
    "datalore": {
     "hide_input_from_viewers": false,
     "hide_output_from_viewers": false,
     "node_id": "dFWHwUKKNVpkcjLvNt4KD5",
     "report_properties": {
      "rowId": "vXeDok2Long4CMy2GzZH0u"
     },
     "type": "CODE"
    }
   },
   "outputs": [],
   "source": [
    "# Predict cluster labels\n",
    "kmeans_labels = kmeans.predict(X_val_pca)"
   ]
  },
  {
   "cell_type": "code",
   "execution_count": null,
   "metadata": {
    "datalore": {
     "hide_input_from_viewers": false,
     "hide_output_from_viewers": false,
     "node_id": "NFNMdUmrk5Ry1uakbQpZGu",
     "report_properties": {
      "rowId": "xdxDylLmQ5ZHtI1C4upNns"
     },
     "type": "CODE"
    }
   },
   "outputs": [],
   "source": [
    "# Evaluate clustering performance\n",
    "silhouette_avg = silhouette_score(X_val_pca, kmeans_labels)\n",
    "print(f\"\\nK-Means Clustering Silhouette Score: {silhouette_avg}\")"
   ]
  },
  {
   "attachments": {},
   "cell_type": "markdown",
   "metadata": {
    "datalore": {
     "hide_input_from_viewers": false,
     "hide_output_from_viewers": false,
     "node_id": "o78uB8YdAFhL2BhIjSBZDz",
     "report_properties": {
      "rowId": "gUFeSmneD9GT00eflT2Bhc"
     },
     "type": "MD"
    }
   },
   "source": [
    "3. Neural Networks"
   ]
  },
  {
   "cell_type": "code",
   "execution_count": null,
   "metadata": {
    "datalore": {
     "hide_input_from_viewers": false,
     "hide_output_from_viewers": false,
     "node_id": "zFvkKb7aXrkThLfljnevzz",
     "report_properties": {
      "rowId": "1Yp8lnWEZaogXQbXu0vtDo"
     },
     "type": "CODE"
    }
   },
   "outputs": [],
   "source": [
    "#1 Feedforward Neural Networks (FNN)\n",
    "from tensorflow.keras.models import Sequential\n",
    "from tensorflow.keras.layers import Dense, Dropout\n",
    "from sklearn.preprocessing import OneHotEncoder"
   ]
  },
  {
   "cell_type": "code",
   "execution_count": null,
   "metadata": {
    "datalore": {
     "hide_input_from_viewers": false,
     "hide_output_from_viewers": false,
     "node_id": "Ahdmd5qiLNgX6phlxRT62a",
     "report_properties": {
      "rowId": "WsmB2eC1pykkIy3zFOj0MG"
     },
     "type": "CODE"
    }
   },
   "outputs": [],
   "source": [
    "# One-hot encode the labels\n",
    "#encoder = OneHotEncoder(sparse_output=False)  # Using sparse_output instead of sparse\n",
    "#y_train_encoded = encoder.fit_transform(y_train.values.reshape(-1, 1))\n",
    "#y_val_encoded = encoder.transform(y_val.values.reshape(-1, 1))"
   ]
  },
  {
   "cell_type": "code",
   "execution_count": null,
   "metadata": {
    "datalore": {
     "hide_input_from_viewers": false,
     "hide_output_from_viewers": false,
     "node_id": "5tgsonT6cYw5UmUwWRbGbR",
     "report_properties": {
      "rowId": "UIwHaXjjWISyyzG73AJoNF"
     },
     "type": "CODE"
    }
   },
   "outputs": [],
   "source": [
    "# Verify the one-hot encoded labels\n",
    "#print(\"Shape of y_train_encoded:\", y_train_encoded.shape)\n",
    "#print(\"Sample of one-hot encoded labels:\", y_train_encoded[:5])"
   ]
  },
  {
   "cell_type": "code",
   "execution_count": null,
   "metadata": {
    "datalore": {
     "hide_input_from_viewers": false,
     "hide_output_from_viewers": false,
     "node_id": "lSQ7UO0QyRCRODPR3Bappi",
     "report_properties": {
      "rowId": "juOJEQiTEMhkVHmDhoqNx3"
     },
     "type": "CODE"
    }
   },
   "outputs": [],
   "source": [
    "# Define the FNN model\n",
    "fnn_model = Sequential([\n",
    "    Dense(128, activation='relu', input_dim=X_train_pca.shape[1]),\n",
    "    Dropout(0.2),\n",
    "    Dense(64, activation='relu'),\n",
    "    Dropout(0.2),\n",
    "    Dense(10, activation='softmax')\n",
    "])"
   ]
  },
  {
   "cell_type": "code",
   "execution_count": null,
   "metadata": {
    "datalore": {
     "hide_input_from_viewers": false,
     "hide_output_from_viewers": false,
     "node_id": "wkMjhdLCcfUTgo0EPzLWGL",
     "report_properties": {
      "rowId": "spCl0l71pUgI3OrUzHXLJR"
     },
     "type": "CODE"
    }
   },
   "outputs": [],
   "source": [
    "# Compile the model\n",
    "fnn_model.compile(optimizer='adam', loss='sparse_categorical_crossentropy', metrics=['accuracy'])"
   ]
  },
  {
   "cell_type": "code",
   "execution_count": null,
   "metadata": {
    "datalore": {
     "hide_input_from_viewers": false,
     "hide_output_from_viewers": false,
     "node_id": "aduELMZS9GI2n6OcoxjQxy",
     "report_properties": {
      "rowId": "TdKmLjwjZNa6U1Hby2Jx8v"
     },
     "type": "CODE"
    }
   },
   "outputs": [],
   "source": [
    "# Train the model\n",
    "fnn_model.fit(X_train_pca, y_train, epochs=10, batch_size=256, validation_data=(X_val_pca, y_val))"
   ]
  },
  {
   "cell_type": "code",
   "execution_count": null,
   "metadata": {
    "datalore": {
     "hide_input_from_viewers": false,
     "hide_output_from_viewers": false,
     "node_id": "97aRPqpvzLzEtI3VNYgA9t",
     "report_properties": {
      "rowId": "KjtCmPPr5r62Lsr5Kqnjdb"
     },
     "type": "CODE"
    }
   },
   "outputs": [],
   "source": [
    "# Evaluate on validation set\n",
    "fnn_loss, fnn_accuracy = fnn_model.evaluate(X_val_pca, y_val)\n",
    "print(f\"\\nFeedforward Neural Network Accuracy: {fnn_accuracy:.2f}\")"
   ]
  },
  {
   "attachments": {},
   "cell_type": "markdown",
   "metadata": {
    "datalore": {
     "hide_input_from_viewers": false,
     "hide_output_from_viewers": false,
     "node_id": "OiC1f4BIkO2j8qAdxsJh0F",
     "report_properties": {
      "rowId": "NkrPIxzWXPikvkfNqSkC4A"
     },
     "type": "MD"
    }
   },
   "source": [
    "Feedforward Neural Networks (FNN) используют несколько слоев для извлечения нелинейных закономерностей, что делает их эффективными для многоклассовой классификации."
   ]
  },
  {
   "cell_type": "code",
   "execution_count": null,
   "metadata": {
    "datalore": {
     "hide_input_from_viewers": false,
     "hide_output_from_viewers": false,
     "node_id": "qUmgCxka6xAQvoKnNWKt2G",
     "report_properties": {
      "rowId": "ZPj5xRL6fsYmCmAAcNWyKz"
     },
     "type": "CODE"
    }
   },
   "outputs": [],
   "source": [
    "#Convolutional Neural Networks (CNNs)\n",
    "\n",
    "from tensorflow.keras.layers import Conv1D, Flatten, MaxPooling1D, Input\n",
    "from tensorflow.keras.models import Model"
   ]
  },
  {
   "cell_type": "code",
   "execution_count": null,
   "metadata": {
    "datalore": {
     "hide_input_from_viewers": false,
     "hide_output_from_viewers": false,
     "node_id": "wqQQLDruklecueS7zJrAwY",
     "report_properties": {
      "rowId": "62wqx6wxsVqHzEdDS8yp7f"
     },
     "type": "CODE"
    }
   },
   "outputs": [],
   "source": [
    "# Ensure labels are integers (not one-hot encoded)\n",
    "y_train = np.argmax(y_train, axis=1) if len(y_train.shape) > 1 else y_train\n",
    "y_val = np.argmax(y_val, axis=1) if len(y_val.shape) > 1 else y_val\n",
    "\n",
    "print(f\"y_train shape: {y_train.shape}, y_val shape: {y_val.shape}\")"
   ]
  },
  {
   "cell_type": "code",
   "execution_count": null,
   "metadata": {
    "datalore": {
     "hide_input_from_viewers": false,
     "hide_output_from_viewers": false,
     "node_id": "ep1UPox8SfFF4SaraZhjhh",
     "report_properties": {
      "rowId": "pk4ugkXMUOXLm8SvkFV8ya"
     },
     "type": "CODE"
    }
   },
   "outputs": [],
   "source": [
    "(len(np.unique(y_train)))"
   ]
  },
  {
   "cell_type": "code",
   "execution_count": null,
   "metadata": {
    "datalore": {
     "hide_input_from_viewers": false,
     "hide_output_from_viewers": false,
     "node_id": "nc0MlXPuX4Vh6xLedJDB9v",
     "report_properties": {
      "rowId": "TIgCdyFkCcvurrOqnQ0eWU"
     },
     "type": "CODE"
    }
   },
   "outputs": [],
   "source": [
    "# For CNNs, the input format needs to be reshaped. Example provided for structured data:\n",
    "# Define height, width, and channels\n",
    "height = X_train.shape[1]  # Number of features\n",
    "width = 1                  # Use 1 for tabular data\n",
    "channels = 1               # Single channel for structured data\n",
    "\n",
    "# Reshape the data\n",
    "X_train_cnn = X_train.values.reshape((-1, height, width, channels))  # Ensure X_train is a NumPy array\n",
    "X_val_cnn = X_val.values.reshape((-1, height, width, channels))\n",
    "\n",
    "# Verify shapes\n",
    "print(f\"X_train_cnn shape: {X_train_cnn.shape}\")\n",
    "print(f\"X_val_cnn shape: {X_val_cnn.shape}\")"
   ]
  },
  {
   "cell_type": "code",
   "execution_count": null,
   "metadata": {
    "datalore": {
     "hide_input_from_viewers": false,
     "hide_output_from_viewers": false,
     "node_id": "pKaAQwWL71qcbPDcUZn1ni",
     "report_properties": {
      "rowId": "6iye4NMnLvhCw9DMOsIQus"
     },
     "type": "CODE"
    }
   },
   "outputs": [],
   "source": [
    "from tensorflow.keras.layers import Conv2D, MaxPooling2D, Flatten, Dense\n",
    "cnn = Sequential([\n",
    "    Conv2D(32, (3, 1), activation='relu', input_shape=(height, width, channels)),  # Adjust kernel size\n",
    "    MaxPooling2D((2, 1)),  # Pooling kernel adjusted for 1D-like data\n",
    "    Flatten(),\n",
    "    Dense(128, activation='relu'),\n",
    "    Dense(4, activation='softmax')\n",
    "])"
   ]
  },
  {
   "cell_type": "code",
   "execution_count": null,
   "metadata": {
    "datalore": {
     "hide_input_from_viewers": false,
     "hide_output_from_viewers": false,
     "node_id": "HpLojoNESHAFGCZ55LA47A",
     "report_properties": {
      "rowId": "o43PME1UXQAAIROQdL27gQ"
     },
     "type": "CODE"
    }
   },
   "outputs": [],
   "source": [
    "# Compile the model\n",
    "cnn.compile(optimizer='adam', loss='sparse_categorical_crossentropy', metrics=['accuracy'])"
   ]
  },
  {
   "cell_type": "code",
   "execution_count": null,
   "metadata": {
    "datalore": {
     "hide_input_from_viewers": false,
     "hide_output_from_viewers": false,
     "node_id": "emkVJY0ZlJPshdQofr1SQ1",
     "report_properties": {
      "rowId": "ncAdOCDXTkvr6peOJqNqH3"
     },
     "type": "CODE"
    }
   },
   "outputs": [],
   "source": [
    "# Display the model summary\n",
    "cnn.summary()"
   ]
  },
  {
   "cell_type": "code",
   "execution_count": null,
   "metadata": {
    "datalore": {
     "hide_input_from_viewers": false,
     "hide_output_from_viewers": false,
     "node_id": "G0qRcU9XdgVkj39f0a4xTp",
     "report_properties": {
      "rowId": "F9RWnXwlsV6nVi5btAzywH"
     },
     "type": "CODE"
    }
   },
   "outputs": [],
   "source": [
    "# Train the CNN\n",
    "cnn.fit(X_train_cnn, y_train, epochs=10, batch_size=256, validation_data=(X_val_cnn, y_val))"
   ]
  },
  {
   "cell_type": "code",
   "execution_count": null,
   "metadata": {
    "datalore": {
     "hide_input_from_viewers": false,
     "hide_output_from_viewers": false,
     "node_id": "oOYW6D6oULeoEtTQWuC8cl",
     "report_properties": {
      "rowId": "dVnLBplJhCmIuhEVujAFci"
     },
     "type": "CODE"
    }
   },
   "outputs": [],
   "source": [
    "# Evaluate on validation set\n",
    "cnn_loss, cnn_accuracy = cnn.evaluate(X_val_cnn, y_val)\n",
    "print(f\"\\nConvolutional Neural Network Accuracy: {cnn_accuracy:.2f}\")"
   ]
  },
  {
   "attachments": {},
   "cell_type": "markdown",
   "metadata": {
    "datalore": {
     "hide_input_from_viewers": false,
     "hide_output_from_viewers": false,
     "node_id": "EUaOLkk5EDiGIB6ZfN6vfv",
     "report_properties": {
      "rowId": "nmmrgMaMX8FlsV73ztCa8S"
     },
     "type": "MD"
    }
   },
   "source": [
    "CNNs адаптируют иерархические методы распознавания образов к структурированным сетевым данным, что делает их особенно полезными для фиксации трудноуловимых особенностей."
   ]
  },
  {
   "attachments": {},
   "cell_type": "markdown",
   "metadata": {
    "datalore": {
     "hide_input_from_viewers": false,
     "hide_output_from_viewers": false,
     "node_id": "CYHrI56BaTjXOytghmUBgT",
     "report_properties": {
      "rowId": "SGphdKNyGQf7PWdzweNKta"
     },
     "type": "MD"
    }
   },
   "source": [
    " **Сводка выходных данных\n",
    "- Classification Models: метрики производительности (accuracy, precision, recall, F1-score) для лLogistic Regression, -Decision Trees, Random Forests, and XGBoost.\n",
    "- Anomaly Detection Models: Количество аномалий, обнаруженных Autoencoders and K-Means.\n",
    "- Neural Networks: accuracy модели на тестовом наборе для FNN и CNN.**"
   ]
  },
  {
   "attachments": {},
   "cell_type": "markdown",
   "metadata": {
    "datalore": {
     "hide_input_from_viewers": false,
     "hide_output_from_viewers": false,
     "node_id": "Dh02LXdezOPu6DKhuuKIrR",
     "report_properties": {
      "rowId": "h6BRnMhoFkmI2zk1PyALIp"
     },
     "type": "MD"
    }
   },
   "source": [
    "# ***2.4. Comparison and Evaluation of the Effectiveness of Models***"
   ]
  },
  {
   "cell_type": "code",
   "execution_count": null,
   "metadata": {
    "datalore": {
     "hide_input_from_viewers": false,
     "hide_output_from_viewers": false,
     "node_id": "ybTfEOWfwxpF1iSpAWbmer",
     "report_properties": {
      "rowId": "vecjv18CiKKQM3HUZorLv2"
     },
     "type": "CODE"
    }
   },
   "outputs": [],
   "source": [
    "from sklearn.metrics import accuracy_score, precision_score, recall_score, f1_score, classification_report, confusion_matrix\n",
    "import seaborn as sns\n",
    "import matplotlib.pyplot as plt"
   ]
  },
  {
   "cell_type": "code",
   "execution_count": null,
   "metadata": {
    "datalore": {
     "hide_input_from_viewers": false,
     "hide_output_from_viewers": false,
     "node_id": "MZOHLsOaVyMsCuFw6XMZcV",
     "report_properties": {
      "rowId": "jhLR33rikmGIC2aFnQkHxE"
     },
     "type": "CODE"
    }
   },
   "outputs": [],
   "source": [
    "# Function to calculate all evaluation metrics\n",
    "def evaluate_model(y_true, y_pred, model_name):\n",
    "    print(f\"\\nEvaluation Metrics for {model_name}:\")\n",
    "    acc = accuracy_score(y_true, y_pred)\n",
    "    precision = precision_score(y_true, y_pred, average='weighted')\n",
    "    recall = recall_score(y_true, y_pred, average='weighted')\n",
    "    f1 = f1_score(y_true, y_pred, average='weighted')\n",
    "\n",
    "    print(f\"Accuracy: {acc:.4f}\")\n",
    "    print(f\"Precision: {precision:.4f}\")\n",
    "    print(f\"Recall: {recall:.4f}\")\n",
    "    print(f\"F1-Score: {f1:.4f}\")\n",
    "\n",
    "    return acc, precision, recall, f1"
   ]
  },
  {
   "cell_type": "code",
   "execution_count": null,
   "metadata": {
    "datalore": {
     "hide_input_from_viewers": false,
     "hide_output_from_viewers": false,
     "node_id": "TrknjRoEEV1QNZoLnCSekE",
     "report_properties": {
      "rowId": "j2lUkelgmFsTgextcl7V02"
     },
     "type": "CODE"
    }
   },
   "outputs": [],
   "source": [
    "# Confusion matrix visualization\n",
    "def plot_confusion_matrix(y_true, y_pred, model_name):\n",
    "    cm = confusion_matrix(y_true, y_pred)\n",
    "    plt.figure(figsize=(8, 6))\n",
    "    sns.heatmap(cm, annot=True, fmt='d', cmap='Blues', xticklabels=np.unique(y_true), yticklabels=np.unique(y_true))\n",
    "    plt.title(f\"Confusion Matrix for {model_name}\")\n",
    "    plt.xlabel(\"Predicted\")\n",
    "    plt.ylabel(\"Actual\")\n",
    "    plt.show()"
   ]
  },
  {
   "cell_type": "code",
   "execution_count": null,
   "metadata": {
    "datalore": {
     "hide_input_from_viewers": false,
     "hide_output_from_viewers": false,
     "node_id": "VnkNpn4cwQ6ht8MSVhwQTN",
     "report_properties": {
      "rowId": "mBEwfilUy56DyMvnGpl3Wa"
     },
     "type": "CODE"
    }
   },
   "outputs": [],
   "source": [
    "# Evaluate Logistic Regression\n",
    "\n",
    "evaluate_model(y_test, y_pred_logistic, \"Logistic Regression\")"
   ]
  },
  {
   "cell_type": "code",
   "execution_count": null,
   "metadata": {
    "datalore": {
     "hide_input_from_viewers": false,
     "hide_output_from_viewers": false,
     "node_id": "jJfTbHKK8isSxX09iHQBA1",
     "report_properties": {
      "rowId": "3tODfV6s8T84R6pIQZyKnA"
     },
     "type": "CODE"
    }
   },
   "outputs": [],
   "source": [
    "plot_confusion_matrix(y_test, y_pred_logistic, \"Logistic Regression\")"
   ]
  },
  {
   "cell_type": "code",
   "execution_count": null,
   "metadata": {
    "datalore": {
     "hide_input_from_viewers": false,
     "hide_output_from_viewers": false,
     "node_id": "9zUDbz5RF1WRP8KPJWs10Q",
     "report_properties": {
      "rowId": "nhUGXdI7MvXTVUCUtzl68T"
     },
     "type": "CODE"
    }
   },
   "outputs": [],
   "source": [
    "# Evaluate Random Forest\n",
    "evaluate_model(y_test, y_pred_forest, \"Random Forest\")\n",
    "plot_confusion_matrix(y_test, y_pred_forest, \"Random Forest\")"
   ]
  },
  {
   "cell_type": "code",
   "execution_count": null,
   "metadata": {
    "datalore": {
     "hide_input_from_viewers": false,
     "hide_output_from_viewers": false,
     "node_id": "sqeuhKuMtMqzcVltyP70Of",
     "report_properties": {
      "rowId": "3DQwhPcu296R7EgZ5xNOoq"
     },
     "type": "CODE"
    }
   },
   "outputs": [],
   "source": [
    "# Evaluate XGBoost\n",
    "evaluate_model(y_test, y_pred_xgb, \"XGBoost\")\n",
    "plot_confusion_matrix(y_test, y_pred_xgb, \"XGBoost\")"
   ]
  },
  {
   "cell_type": "code",
   "execution_count": null,
   "metadata": {
    "datalore": {
     "hide_input_from_viewers": false,
     "hide_output_from_viewers": false,
     "node_id": "PcGeOnOInhNvrZeXiNyT5e",
     "report_properties": {
      "rowId": "fpOtIUhfvdLh5KeKDReNNs"
     },
     "type": "CODE"
    }
   },
   "outputs": [],
   "source": [
    "#2 2. Comparative Analysis / Aggregate Metrics for Comparison\n",
    "# Dictionary to store results\n",
    "model_results = {}"
   ]
  },
  {
   "cell_type": "code",
   "execution_count": null,
   "metadata": {
    "datalore": {
     "hide_input_from_viewers": false,
     "hide_output_from_viewers": false,
     "node_id": "Y4zlhPAr3U6SHUg84x7G8v",
     "report_properties": {
      "rowId": "2hkDDFYFmyHlSkcJaAeyw2"
     },
     "type": "CODE"
    }
   },
   "outputs": [],
   "source": [
    "# Logistic Regression\n",
    "y_pred_logistic = logistic_model.predict(X_test_pca)\n",
    "model_results['Logistic Regression'] = {\n",
    "    'Accuracy': accuracy_score(y_test, y_pred_logistic),\n",
    "    'Precision': precision_score(y_test, y_pred_logistic, average='weighted'),\n",
    "    'Recall': recall_score(y_test, y_pred_logistic, average='weighted'),\n",
    "    'F1-Score': f1_score(y_test, y_pred_logistic, average='weighted')\n",
    "}"
   ]
  },
  {
   "cell_type": "code",
   "execution_count": null,
   "metadata": {
    "datalore": {
     "hide_input_from_viewers": false,
     "hide_output_from_viewers": false,
     "node_id": "AO6U1RzAt5PjC9Yjw25Qbb",
     "report_properties": {
      "rowId": "sFETNjGBpPQlqrIHdC7eTt"
     },
     "type": "CODE"
    }
   },
   "outputs": [],
   "source": [
    "y_pred_logistic"
   ]
  },
  {
   "cell_type": "code",
   "execution_count": null,
   "metadata": {
    "datalore": {
     "hide_input_from_viewers": false,
     "hide_output_from_viewers": false,
     "node_id": "dmiJh6UIraapTuZATrwbpM",
     "report_properties": {
      "rowId": "NGoVV2f9KJ1GHtJxFtlUfG"
     },
     "type": "CODE"
    }
   },
   "outputs": [],
   "source": [
    "# Random Forest\n",
    "y_pred_rf = random_forest.predict(X_test_pca)\n",
    "model_results['Random Forest'] = {\n",
    "    'Accuracy': accuracy_score(y_test, y_pred_rf),\n",
    "    'Precision': precision_score(y_test, y_pred_rf, average='weighted'),\n",
    "    'Recall': recall_score(y_test, y_pred_rf, average='weighted'),\n",
    "    'F1-Score': f1_score(y_test, y_pred_rf, average='weighted')\n",
    "}"
   ]
  },
  {
   "cell_type": "code",
   "execution_count": null,
   "metadata": {
    "datalore": {
     "hide_input_from_viewers": false,
     "hide_output_from_viewers": false,
     "node_id": "uorl7ShhjIsejQZqTRlfyB",
     "report_properties": {
      "rowId": "nRfRVb0hSGcDUsKkeAv5wL"
     },
     "type": "CODE"
    }
   },
   "outputs": [],
   "source": [
    "y_pred_rf"
   ]
  },
  {
   "cell_type": "code",
   "execution_count": null,
   "metadata": {
    "datalore": {
     "hide_input_from_viewers": false,
     "hide_output_from_viewers": false,
     "node_id": "aNNQRu6VAJbl9C5NbjrKSO",
     "report_properties": {
      "rowId": "CTzoZN9I9fjRkPsr0UoysB"
     },
     "type": "CODE"
    }
   },
   "outputs": [],
   "source": [
    "# XGBoost\n",
    "y_pred_xgb = xgb_model.predict(X_test_pca)\n",
    "model_results['XGBoost'] = {\n",
    "    'Accuracy': accuracy_score(y_test, y_pred_xgb),\n",
    "    'Precision': precision_score(y_test, y_pred_xgb, average='weighted'),\n",
    "    'Recall': recall_score(y_test, y_pred_xgb, average='weighted'),\n",
    "    'F1-Score': f1_score(y_test, y_pred_xgb, average='weighted')\n",
    "}"
   ]
  },
  {
   "cell_type": "code",
   "execution_count": null,
   "metadata": {
    "datalore": {
     "hide_input_from_viewers": false,
     "hide_output_from_viewers": false,
     "node_id": "ayTDFlbjgDDQfNJNcECOA5",
     "report_properties": {
      "rowId": "PA3O4pX34EpGqOIlqWA84K"
     },
     "type": "CODE"
    }
   },
   "outputs": [],
   "source": [
    "y_pred_xgb"
   ]
  },
  {
   "cell_type": "code",
   "execution_count": null,
   "metadata": {
    "datalore": {
     "hide_input_from_viewers": false,
     "hide_output_from_viewers": false,
     "node_id": "228wmsSJGkqtg7YAeuK0BC",
     "report_properties": {
      "rowId": "75Fse4Pa2DdZ7ny78vbMvu"
     },
     "type": "CODE"
    }
   },
   "outputs": [],
   "source": [
    "# Converting results to a DataFrame\n",
    "results_df = pd.DataFrame(model_results).T\n",
    "print(\"\\nComparative Results:\")\n",
    "print(results_df)"
   ]
  },
  {
   "cell_type": "code",
   "execution_count": null,
   "metadata": {
    "datalore": {
     "hide_input_from_viewers": false,
     "hide_output_from_viewers": false,
     "node_id": "gT9aBWwml3JHL7bbkR6Xic",
     "report_properties": {
      "rowId": "zoMKC733TTBtrHy85Zs7r9"
     },
     "type": "CODE"
    }
   },
   "outputs": [],
   "source": [
    "#3. Visualization / ROC Curves\n",
    "\n",
    "from sklearn.metrics import roc_curve, auc\n",
    "\n",
    "def plot_roc_curve(model, X_test, y_test, label):\n",
    "    y_pred_proba = model.predict_proba(X_test)[:, 1]\n",
    "    fpr, tpr, _ = roc_curve(y_test, y_pred_proba, pos_label=1)\n",
    "    roc_auc = auc(fpr, tpr)\n",
    "    plt.plot(fpr, tpr, label=f\"{label} (AUC = {roc_auc:.2f})\")"
   ]
  },
  {
   "cell_type": "code",
   "execution_count": null,
   "metadata": {
    "datalore": {
     "hide_input_from_viewers": false,
     "hide_output_from_viewers": false,
     "node_id": "V2LANttsZkubAkeWwdiBXn",
     "report_properties": {
      "rowId": "0k3o6nyfjp5xGVWxR2TEIK"
     },
     "type": "CODE"
    }
   },
   "outputs": [],
   "source": [
    "plt.figure(figsize=(10, 6))\n",
    "plot_roc_curve(logistic_model, X_test_pca, y_test, \"Logistic Regression\")\n",
    "plot_roc_curve(random_forest, X_test_pca, y_test, \"Random Forest\")\n",
    "plot_roc_curve(xgb_model, X_test_pca, y_test, \"XGBoost\")\n",
    "plt.plot([0, 1], [0, 1], 'k--')  # Random guess line\n",
    "plt.title(\"ROC Curves\")\n",
    "plt.xlabel(\"False Positive Rate\")\n",
    "plt.ylabel(\"True Positive Rate\")\n",
    "plt.legend(loc=\"lower right\")\n",
    "plt.show()"
   ]
  },
  {
   "cell_type": "code",
   "execution_count": null,
   "metadata": {
    "datalore": {
     "hide_input_from_viewers": false,
     "hide_output_from_viewers": false,
     "node_id": "j2E8Z4MfpfaSQ0a0v55dTV",
     "report_properties": {
      "rowId": "9eeV7PMMz7MDBSmddTRiK6"
     },
     "type": "CODE"
    }
   },
   "outputs": [],
   "source": [
    "from sklearn.metrics import roc_curve, auc\n",
    "\n",
    "# Function to plot ROC curves\n",
    "def plot_roc_curve(models, X_test, y_test):\n",
    "    plt.figure(figsize=(10, 8))\n",
    "\n",
    "    for model_name, model in models.items():\n",
    "        y_proba = model.predict_proba(X_test)[:, 1]\n",
    "        fpr, tpr, _ = roc_curve(y_test, y_proba, pos_label=1)\n",
    "        roc_auc = auc(fpr, tpr)\n",
    "        plt.plot(fpr, tpr, label=f\"{model_name} (AUC = {roc_auc:.2f})\")\n",
    "\n",
    "    plt.plot([0, 1], [0, 1], 'k--')\n",
    "    plt.xlabel(\"False Positive Rate\")\n",
    "    plt.ylabel(\"True Positive Rate\")\n",
    "    plt.title(\"ROC Curves for Models\")\n",
    "    plt.legend(loc=\"lower right\")\n",
    "    plt.grid()\n",
    "    plt.show()\n",
    "\n",
    "# Add supervised models to evaluate\n",
    "models_to_plot = {\n",
    "    \"Logistic Regression\": logistic_model,\n",
    "    \"Random Forest\": random_forest,\n",
    "    \"XGBoost\": xgb_model\n",
    "}\n",
    "plot_roc_curve(models_to_plot, X_test_pca, y_test)"
   ]
  },
  {
   "attachments": {},
   "cell_type": "markdown",
   "metadata": {
    "datalore": {
     "hide_input_from_viewers": false,
     "hide_output_from_viewers": false,
     "node_id": "rgObyIrNZxuuTdjjDXxRyr",
     "report_properties": {
      "rowId": "gVoJRufL8Ip5hMOuPXIer5"
     },
     "type": "MD"
    }
   },
   "source": [
    "*`The ROC curve analysis compares the performance of Logistic Regression, Random Forest, and XGBoost on the dataset. Among these models, Logistic Regression achieves the highest AUC (1.00), slightly outperforming the baseline of random guessing. Random Forest and XGBoost have the same AUC values of 1.00 and 1.00.*"
   ]
  },
  {
   "cell_type": "code",
   "execution_count": null,
   "metadata": {
    "datalore": {
     "hide_input_from_viewers": false,
     "hide_output_from_viewers": false,
     "node_id": "bxO1XjXhAUfhFQ71F0rShN",
     "report_properties": {
      "rowId": "iwMkuIofbN21vSuo5HTgtk"
     },
     "type": "CODE"
    }
   },
   "outputs": [],
   "source": [
    "#Precision-Recall Curves\n",
    "from sklearn.metrics import precision_recall_curve\n",
    "\n",
    "def plot_precision_recall_curve(model, X_test, y_test, label):\n",
    "    y_pred_proba = model.predict_proba(X_test)[:, 1]\n",
    "    precision, recall, _ = precision_recall_curve(y_test, y_pred_proba, pos_label=1)\n",
    "    plt.plot(recall, precision, label=label)"
   ]
  },
  {
   "cell_type": "code",
   "execution_count": null,
   "metadata": {
    "datalore": {
     "hide_input_from_viewers": false,
     "hide_output_from_viewers": false,
     "node_id": "OD6cRhfGepInOMdMmLtkHw",
     "report_properties": {
      "rowId": "LpPFSPgq3g4t0rmhsaphyG"
     },
     "type": "CODE"
    }
   },
   "outputs": [],
   "source": [
    "plt.figure(figsize=(10, 6))\n",
    "plot_precision_recall_curve(logistic_model, X_test_pca, y_test, \"Logistic Regression\")\n",
    "plot_precision_recall_curve(random_forest, X_test_pca, y_test, \"Random Forest\")\n",
    "plot_precision_recall_curve(xgb_model, X_test_pca, y_test, \"XGBoost\")\n",
    "plt.title(\"Precision-Recall Curves\")\n",
    "plt.xlabel(\"Recall\")\n",
    "plt.ylabel(\"Precision\")\n",
    "plt.legend(loc=\"lower left\")\n",
    "plt.show()"
   ]
  },
  {
   "attachments": {},
   "cell_type": "markdown",
   "metadata": {
    "datalore": {
     "hide_input_from_viewers": false,
     "hide_output_from_viewers": false,
     "node_id": "ncPxJXkgQmZ4k3eqZVMh7r",
     "report_properties": {
      "rowId": "eAPAaPMo69pczFOZjH9oxF"
     },
     "type": "MD"
    }
   },
   "source": [
    "`The Precision-Recall (PR) curve analysis highlights the varying performance of Logistic Regression, Random Forest, and XGBoost. Among the three models, all models achieve the best trade-off between precision and recall."
   ]
  },
  {
   "cell_type": "code",
   "execution_count": null,
   "metadata": {
    "datalore": {
     "hide_input_from_viewers": false,
     "hide_output_from_viewers": false,
     "node_id": "ZWyFJwO16BNGsBXOy2IbIa",
     "report_properties": {
      "rowId": "s88relx5b1VgPvQRoQJjpj"
     },
     "type": "CODE"
    }
   },
   "outputs": [],
   "source": [
    "import matplotlib.pyplot as plt\n",
    "\n",
    "# Plotting the metrics for each model\n",
    "results_df.plot(kind='bar', figsize=(10, 6))\n",
    "plt.title(\"Model Comparison: Accuracy, Precision, Recall, F1-Score\")\n",
    "plt.ylabel(\"Score\")\n",
    "plt.xticks(rotation=45)\n",
    "plt.tight_layout()\n",
    "plt.show()"
   ]
  },
  {
   "cell_type": "code",
   "execution_count": null,
   "metadata": {
    "datalore": {
     "hide_input_from_viewers": false,
     "hide_output_from_viewers": false,
     "node_id": "mJpm9l6cH8SefL6bDWEnUb",
     "report_properties": {
      "rowId": "4Rm85vTOvqVyDJCsXQOPIK"
     },
     "type": "CODE"
    }
   },
   "outputs": [],
   "source": [
    "# Confusion matrix for each supervised model\n",
    "for model_name, y_pred in [(\"Logistic Regression\", y_pred_logistic),\n",
    "                           (\"Random Forest\", y_pred_rf),\n",
    "                           (\"XGBoost\", y_pred_xgb)]:\n",
    "    print(f\"\\nConfusion Matrix for {model_name}:\")\n",
    "    plot_confusion_matrix(y_test, y_pred, model_name)"
   ]
  },
  {
   "attachments": {},
   "cell_type": "markdown",
   "metadata": {
    "datalore": {
     "hide_input_from_viewers": false,
     "hide_output_from_viewers": false,
     "node_id": "j0HfQY1dzRWgVr9aWTluP9",
     "report_properties": {
      "rowId": "ur0Q8qt82wlcHUjvovHODE"
     },
     "type": "MD"
    }
   },
   "source": [
    "**#Comparing Anomaly Detection Models**"
   ]
  },
  {
   "cell_type": "code",
   "execution_count": null,
   "metadata": {
    "datalore": {
     "hide_input_from_viewers": false,
     "hide_output_from_viewers": false,
     "node_id": "EyaF9nGlqvoaKjgpMAgLpt",
     "report_properties": {
      "rowId": "mnKuF2fkPY1N9IoJqAyjHO"
     },
     "type": "CODE"
    }
   },
   "outputs": [],
   "source": [
    "import numpy as np\n",
    "import matplotlib.pyplot as plt\n",
    "from sklearn.metrics import roc_curve, auc, confusion_matrix, classification_report\n",
    "from sklearn.preprocessing import LabelEncoder\n",
    "\n",
    "# Ensure y_test_binary is available: Binary ground truth (1 for anomaly, 0 for normal)\n",
    "# If y_test is categorical, encode it\n",
    "label_encoder = LabelEncoder()\n",
    "y_test_binary = label_encoder.fit_transform(y_test)  # Assumes y_test contains ground truth\n",
    "\n",
    "# 1. Autoencoder Evaluation\n",
    "# Use reconstruction error and threshold already calculated\n",
    "autoencoder_anomalies = reconstruction_error > threshold  # True for anomalies\n",
    "\n",
    "# Function to evaluate the model\n",
    "def evaluate_model(true_labels, predicted_anomalies, method_name):\n",
    "    # Confusion Matrix\n",
    "    cm = confusion_matrix(true_labels, predicted_anomalies)\n",
    "    tn, fp, fn, tp = cm.ravel()\n",
    "\n",
    "    print(f\"\\nConfusion Matrix for {method_name}:\")\n",
    "    print(f\"TN: {tn}, FP: {fp}, FN: {fn}, TP: {tp}\")\n",
    "\n",
    "    # Classification Report\n",
    "    print(f\"\\nClassification Report for {method_name}:\")\n",
    "    print(classification_report(true_labels, predicted_anomalies))\n",
    "\n",
    "    # ROC Curve\n",
    "    fpr, tpr, _ = roc_curve(true_labels, predicted_anomalies)\n",
    "    roc_auc = auc(fpr, tpr)\n",
    "\n",
    "    return fpr, tpr, roc_auc\n",
    "\n",
    "# Evaluate Autoencoder\n",
    "fpr_auto, tpr_auto, auc_auto = evaluate_model(y_test_binary, autoencoder_anomalies, \"Autoencoder\")\n",
    "\n",
    "# 2. K-Means Clustering Evaluation\n",
    "# Use outliers from K-Means distance already calculated\n",
    "kmeans_anomalies = outliers  # Anomalies detected by K-Means based on distance threshold\n",
    "\n",
    "# Evaluate K-Means Clustering\n",
    "fpr_kmeans, tpr_kmeans, auc_kmeans = evaluate_model(y_test_binary, kmeans_anomalies, \"K-Means Clustering\")\n",
    "\n",
    "# Visualization: Compare ROC Curves\n",
    "plt.figure(figsize=(8, 6))\n",
    "plt.plot(fpr_auto, tpr_auto, label=f\"Autoencoder (AUC = {auc_auto:.2f})\", color=\"blue\")\n",
    "plt.plot(fpr_kmeans, tpr_kmeans, label=f\"K-Means (AUC = {auc_kmeans:.2f})\", color=\"orange\")\n",
    "plt.plot([0, 1], [0, 1], 'k--', label=\"Random Guess (AUC = 0.5)\")\n",
    "plt.title(\"ROC Curve Comparison: Autoencoder vs K-Means\")\n",
    "plt.xlabel(\"False Positive Rate (FPR)\")\n",
    "plt.ylabel(\"True Positive Rate (TPR)\")\n",
    "plt.legend()\n",
    "plt.grid()\n",
    "plt.show()\n",
    "\n",
    "# Visualization: Compare Number of Anomalies Detected\n",
    "plt.figure(figsize=(8, 6))\n",
    "methods = [\"Autoencoder\", \"K-Means\"]\n",
    "anomalies_detected = [np.sum(autoencoder_anomalies), np.sum(kmeans_anomalies)]\n",
    "\n",
    "plt.bar(methods, anomalies_detected, color=[\"blue\", \"orange\"])\n",
    "plt.title(\"Number of Anomalies Detected by Each Method\")\n",
    "plt.ylabel(\"Number of Anomalies\")\n",
    "plt.show()"
   ]
  },
  {
   "attachments": {},
   "cell_type": "markdown",
   "metadata": {
    "datalore": {
     "hide_input_from_viewers": false,
     "hide_output_from_viewers": false,
     "node_id": "SvpJEf8HI0wh7rIrr3vh9R",
     "report_properties": {
      "rowId": "C1UAhOVH6KUr8S7TEzOkTq"
     },
     "type": "MD"
    }
   },
   "source": [
    "** Feature Importance (Bar Chart for Random Forest)**"
   ]
  },
  {
   "cell_type": "code",
   "execution_count": null,
   "metadata": {
    "datalore": {
     "hide_input_from_viewers": false,
     "hide_output_from_viewers": false,
     "node_id": "8IWPYnloyJlMWWeMULkCvw",
     "report_properties": {
      "rowId": "KSobT4fYxpSTKu485cUd9s"
     },
     "type": "CODE"
    }
   },
   "outputs": [],
   "source": [
    "from sklearn.ensemble import RandomForestClassifier\n",
    "import pandas as pd\n",
    "import matplotlib.pyplot as plt\n",
    "\n",
    "# Ensure you have trained a Random Forest model\n",
    "rf = RandomForestClassifier(random_state=42)\n",
    "rf.fit(X_train, y_train)\n",
    "\n",
    "# Get feature importance scores\n",
    "feature_importances = pd.Series(rf.feature_importances_, index=X_train.columns)\n",
    "\n",
    "# Sort and select the top 20 features\n",
    "important_features = feature_importances.sort_values(ascending=False)[:20]\n",
    "\n",
    "# Plotting feature importance\n",
    "plt.figure(figsize=(12, 6))\n",
    "important_features.plot(kind='bar', color='skyblue')\n",
    "plt.title(\"Top 20 Important Features (Random Forest)\")\n",
    "plt.xlabel(\"Features\")\n",
    "plt.ylabel(\"Importance Score\")\n",
    "plt.xticks(rotation=45, ha='right')\n",
    "plt.grid()\n",
    "plt.show()"
   ]
  }
 ],
 "metadata": {
  "datalore": {
   "base_environment": "default",
   "computation_mode": "JUPYTER",
   "package_manager": "pip",
   "packages": [],
   "report_row_ids": [
    "VYZes1BGCCJ05mKzXegmpt",
    "LeiYrglxHbcNvkQtyL20R7",
    "hjjCCFGbDqVXr1lvJUIxY9",
    "uWCOHQOQEoIgCDD1HgIuLa",
    "uhS7OQ9QAMbCQr2t4n1UKE",
    "6RwZsgfEGEieuymKwXjgEA",
    "GiDtcpEtqgX2EaC3NfNrDO",
    "LYJc6x66kqTIBylsOAOmwq",
    "bRzIkb9EZw0dyDvHq8EQrj",
    "gZDnuSmwkN9dvrgbczmDcm",
    "HRwHvJBxkjTDfSOEyPtSyY",
    "cGRYguCr0J5nwxscZxYGuN",
    "760tKHP0UsunfC3CtYWmAa",
    "TizuBr7C7HMGlWPRtWPMUe",
    "ULmiEp5owfwBkKQW6XyB8G",
    "kFuVx4c3WOZbOoIqmco1GD",
    "tn6nmsce03MSi22AgKLdpo",
    "qesMMYzdIcywlrfSoPyCrp",
    "Mw2lsRoRYZxFevxdfEYoIg",
    "emM4dw55b6BG3T8NIh3cIO",
    "XpeT1ZSoY3bRr3TgqTy5QT",
    "WwiWIyuEvMH7ErfhTKxwLl",
    "f4yQ4bJ6JDBvqW74E8mpNL",
    "UkktnJxNXWinTp81595lad",
    "OTNGch8zLyAzohjuKJ4PbH",
    "R0oGw0dtRzpbq4HjHDu9kE",
    "iw1PJhi3Ar1Q5obTimPZV9",
    "rImOyNSrFyfrjNB9Bk7USW",
    "3o1t5Ke8FmZHAMLPgVj2Kk",
    "TDA0muqaCJlzku3qi6jcpn",
    "qIhDbDdsdWXlfZLeUmh7il",
    "xXWXcKJZ9vJu5A27xZuguh",
    "YQk8FdcULMALXWWkPYnGYR",
    "JNbsOS58y8PmspLvdozTGz",
    "l8vjw389Tn2VIVr2jfBdFg",
    "FlUIU1ioITzQL4NB4GGz2H",
    "uuQoXTU0zHK2Bi5IRb0PSJ",
    "YHw3ZuZF9I6pFNTOzGzzZm",
    "p2kt1VpQbf3vwm0nCYuBiU",
    "qpRsvdZUeoFoA8XvMKWgvO",
    "zbJOSC0Ipc6Vxks1W2RQaV",
    "NCWWtCDXcATe6Li6YMCWdQ",
    "jnZzGFnye7xkENFPRUbBCe",
    "TftmTdCqlU092pmPTIawlM",
    "fvxkLD1wqKikHltpN61gS9",
    "XmKDt1E22JncNjzLKobm7K",
    "vxD7jXAU3wopnir28VUNpn",
    "PAKV65SXy16IjXrMyQDKAv",
    "B7W011AcIG4QorLnFtpbjZ",
    "moSqFOCzxPsVsvEdFfm5zv",
    "UnQmnmWUIhZ4YUf8vk62Er",
    "58DFEanrMb0ev3wrYJUIUG",
    "b6bsUh4vOivgdyvWm6sNAU",
    "9yCLDWQThEynaKqT7nO75J",
    "jCz4QUWo0h5VC1pq2Lutwj",
    "Z7Ppr39uh3EWVGpveeoIEj",
    "MsVISgm7DmmnVIph0MJNjB",
    "jXIELLg4CKTw4KWqKasLbb",
    "73RUD52uDmaquGJcZ9af65",
    "mQbjpM9V3espkcHLomyMXC",
    "s3wTZTG4WUdGtSXz3MNfBy",
    "x05gUtVqgMrZmGWPQAHwM6",
    "Mh5nquXVouasWd3IeaOQFn",
    "erQYmGzzuomaCRBHRutoZK",
    "EUoJ1fwUhoKpQda6L5WOjh",
    "3bCtYm1LyocNg8AZSF12yw",
    "kyoPaQiCacPQk9nLqDqr65",
    "RJ8PQHMzV4tjZlV7YHx9ht",
    "1BW3WSSbAp5YZGMtHSunxA",
    "v8rdGXG9YBmQfhZG233gpG",
    "5us5Vtd3gEs2OexGHn9iSJ",
    "3vk8ygyZdVXLrL5FJrM7SF",
    "Ekcij30r8qmpBS1snDz36S",
    "BjjwiC7yaKKXbKv1gQKBnz",
    "8NY7lDsNQmUTnE3lOqk5tb",
    "JaLMsuXLZNfLCh2hElL4Uy",
    "XkQi7B9D3aAJ9prxDPbwuE",
    "5uzKx9ZvO24fE2vDjyC2Z0",
    "S0XGBGUlB3zvYETF7C90rf",
    "VRqVm12YTFolmLwkOTK0NO",
    "V7FXImERfL7K3vB08p7pt4",
    "vXeDok2Long4CMy2GzZH0u",
    "xdxDylLmQ5ZHtI1C4upNns",
    "gUFeSmneD9GT00eflT2Bhc",
    "1Yp8lnWEZaogXQbXu0vtDo",
    "WsmB2eC1pykkIy3zFOj0MG",
    "UIwHaXjjWISyyzG73AJoNF",
    "juOJEQiTEMhkVHmDhoqNx3",
    "spCl0l71pUgI3OrUzHXLJR",
    "TdKmLjwjZNa6U1Hby2Jx8v",
    "KjtCmPPr5r62Lsr5Kqnjdb",
    "NkrPIxzWXPikvkfNqSkC4A",
    "ZPj5xRL6fsYmCmAAcNWyKz",
    "62wqx6wxsVqHzEdDS8yp7f",
    "pk4ugkXMUOXLm8SvkFV8ya",
    "TIgCdyFkCcvurrOqnQ0eWU",
    "6iye4NMnLvhCw9DMOsIQus",
    "o43PME1UXQAAIROQdL27gQ",
    "ncAdOCDXTkvr6peOJqNqH3",
    "F9RWnXwlsV6nVi5btAzywH",
    "dVnLBplJhCmIuhEVujAFci",
    "nmmrgMaMX8FlsV73ztCa8S",
    "SGphdKNyGQf7PWdzweNKta",
    "h6BRnMhoFkmI2zk1PyALIp",
    "vecjv18CiKKQM3HUZorLv2",
    "jhLR33rikmGIC2aFnQkHxE",
    "j2lUkelgmFsTgextcl7V02",
    "mBEwfilUy56DyMvnGpl3Wa",
    "3tODfV6s8T84R6pIQZyKnA",
    "nhUGXdI7MvXTVUCUtzl68T",
    "3DQwhPcu296R7EgZ5xNOoq",
    "fpOtIUhfvdLh5KeKDReNNs",
    "2hkDDFYFmyHlSkcJaAeyw2",
    "sFETNjGBpPQlqrIHdC7eTt",
    "NGoVV2f9KJ1GHtJxFtlUfG",
    "nRfRVb0hSGcDUsKkeAv5wL",
    "CTzoZN9I9fjRkPsr0UoysB",
    "PA3O4pX34EpGqOIlqWA84K",
    "75Fse4Pa2DdZ7ny78vbMvu",
    "zoMKC733TTBtrHy85Zs7r9",
    "0k3o6nyfjp5xGVWxR2TEIK",
    "9eeV7PMMz7MDBSmddTRiK6",
    "gVoJRufL8Ip5hMOuPXIer5",
    "iwMkuIofbN21vSuo5HTgtk",
    "LpPFSPgq3g4t0rmhsaphyG",
    "eAPAaPMo69pczFOZjH9oxF",
    "s88relx5b1VgPvQRoQJjpj",
    "4Rm85vTOvqVyDJCsXQOPIK",
    "ur0Q8qt82wlcHUjvovHODE",
    "mnKuF2fkPY1N9IoJqAyjHO",
    "C1UAhOVH6KUr8S7TEzOkTq",
    "KSobT4fYxpSTKu485cUd9s"
   ],
   "version": 3
  },
  "kernelspec": {
   "display_name": "Python 3 (ipykernel)",
   "language": "python",
   "name": "python3"
  },
  "language_info": {
   "codemirror_mode": {
    "name": "ipython",
    "version": 3
   },
   "file_extension": ".py",
   "mimetype": "text/x-python",
   "name": "python",
   "nbconvert_exporter": "python",
   "pygments_lexer": "ipython3",
   "version": "3.12.6"
  }
 },
 "nbformat": 4,
 "nbformat_minor": 4
}
